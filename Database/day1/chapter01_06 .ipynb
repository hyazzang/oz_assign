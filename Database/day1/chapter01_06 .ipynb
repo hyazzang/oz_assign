{
  "cells": [
    {
      "cell_type": "markdown",
      "metadata": {
        "id": "BAnjbXr6FUEc"
      },
      "source": [
        "[문제1]\n",
        "\n",
        "DBMS 특징이 아닌것을 골라주세요\n",
        "\n",
        "- 데이터 무결성\n",
        "- 데이터 보안성\n",
        "- 데이터 일관성\n",
        "- 데이터 의존성"
      ]
    },
    {
      "cell_type": "markdown",
      "metadata": {
        "id": "wb7I4PYhFUEd"
      },
      "source": [
        "\n",
        "정답 : 데이터 의존성 / 의존성이 아니라 데이터 독립성이 올바른 정답입니다."
      ]
    },
    {
      "cell_type": "markdown",
      "metadata": {
        "id": "Cln_sxRnFUEd"
      },
      "source": [
        "[문제2]\n",
        "\n",
        "아래 설명에 해당하는 데이터 모델을 골라주세요\n",
        "\n",
        "```\n",
        "표 형태로 데이터를 저장하고 SQL을 사용하여 데이터를 조작합니다.\n",
        "가장 널리 사용되는 데이터 모델 중 하나이며 RDBMS에서 지원합니다.\n",
        "```\n",
        "\n",
        "- 관계형 데이터 모델\n",
        "- 객체 지향형 데이터 모델\n",
        "- 계층형 데이터 모델\n",
        "- 네트워크형 데이터 모델"
      ]
    },
    {
      "cell_type": "markdown",
      "metadata": {
        "id": "uGnkxN2WFUEd"
      },
      "source": [
        "정답 : 관계형 데이터 모델 입니다.  \n",
        "\n",
        "* 객체 지향형 데이터 모델: 데이터와 해당 동작을 캡슐화, 객체간의 관계를 강조.\n",
        "* 계층형 데이터 모델: \b상위 레코드와 하위 레코드 간의 부모-자식 간의 관계가 정의\n",
        "* 네트워크형 데이터 모델: 각 레코드 간의 관계를 명시적으로 정의  \n"
      ]
    },
    {
      "cell_type": "markdown",
      "metadata": {
        "id": "ECJL_Jm1FUEd"
      },
      "source": [
        "[문제3]\n",
        "\n",
        "데이터베이스의 구조를 정의하는 것을 골라주세요\n",
        "\n",
        "- 인덱스\n",
        "- 트랜잭션\n",
        "- 스키마\n",
        "- SQL"
      ]
    },
    {
      "cell_type": "markdown",
      "metadata": {
        "id": "-XxYH0ADFUEe"
      },
      "source": [
        "정답 :  스키마\n",
        "\n",
        "* 인덱스: 데이터 검색 속도를 빠르게 하기 위해 사용되는 객체\n",
        "* 트랜잭션: 데이터베이스의 상태를 변화시키는 하나의 작업 단위\n",
        "* SQL: 데이터를 관리하기 위해 사용되는 표준 프로그래밍 언어"
      ]
    },
    {
      "cell_type": "markdown",
      "metadata": {
        "id": "878lfhviFUEe"
      },
      "source": [
        "[문제4]\n",
        "\n",
        "RDBMS의 대표적인 단점이 아닌것을 골라주세요\n",
        "\n",
        "- 실시간 데이터 처리의 어려움\n",
        "- 운영 비용이 비쌈\n",
        "- 테이블 join의 복잡성\n",
        "- 미리 만들어진 스키마 구조를 변경 또는 확장하는데 어려움\n",
        "- 대량의 데이터를 저장하는게 어려움"
      ]
    },
    {
      "cell_type": "markdown",
      "metadata": {
        "id": "8hDcbtCoFUEe"
      },
      "source": [
        "정답 : 대량의 데이터를 저장하는게 어려움"
      ]
    },
    {
      "cell_type": "markdown",
      "metadata": {
        "id": "MmnOyA67FUEe"
      },
      "source": [
        "[문제5]\n",
        "\n",
        "RDBMS의 구성 요소 중 고유한 값을 나타내는 것을 골라주세요\n",
        "\n",
        "- column\n",
        "- row\n",
        "- FK\n",
        "- PK"
      ]
    },
    {
      "cell_type": "markdown",
      "metadata": {
        "id": "eR_Q6VC3FUEe"
      },
      "source": [
        "정답 : PK (Primary Key)\n",
        "\n",
        "* column: 테이블의 열, 데이터의 속성을 정의\n",
        "* row: 테이블의 행, 개별 데이터를 나눔\n",
        "* FK: Foreign Key. 다른 테이블의 Primary Key를 참조, 테이블간의 관계를 나타냄"
      ]
    },
    {
      "cell_type": "markdown",
      "metadata": {
        "id": "aqTswm_uFUEf"
      },
      "source": [
        "[문제6]\n",
        "\n",
        "대표적인 RDBMS가 아닌것을 골라주세요\n",
        "\n",
        "- SQLite\n",
        "- Oracle Database\n",
        "- PostgreSQL\n",
        "- Firebase"
      ]
    },
    {
      "cell_type": "markdown",
      "metadata": {
        "id": "usIxoNjEFUEf"
      },
      "source": [
        "정답 : Firebase (NoSQL 서비스)"
      ]
    },
    {
      "cell_type": "markdown",
      "metadata": {
        "id": "nM_cn-u2FUEf"
      },
      "source": [
        "[문제7]\n",
        "\n",
        "물리적 스키마란 무엇을 의마하는지 골라주세요\n",
        "\n",
        "- 데이터베이스 논리적 구조\n",
        "- 데이터베이스 물리적 저장 방식\n",
        "- 데이터베이스 사용자 뷰\n",
        "- 데이터베이스의 엑세스 권한"
      ]
    },
    {
      "cell_type": "markdown",
      "metadata": {
        "id": "DDds_8BtFUEf"
      },
      "source": [
        "정답 : 데이터 베이스 물리적 저장 방식"
      ]
    },
    {
      "cell_type": "markdown",
      "metadata": {
        "id": "Ebj42R7YFUEf"
      },
      "source": [
        "[문제8]\n",
        "\n",
        "SQL 언어에 해당하지 않는 것을 골라주세요\n",
        "\n",
        "- 데이터 처리 언어(DML)\n",
        "- 데이터 제어 언어(DCL)\n",
        "- 데이터 연결 언어(DCL)\n",
        "- 데이터 정의 언어(DDL)"
      ]
    },
    {
      "cell_type": "markdown",
      "metadata": {
        "id": "cmijYBpnFUEf"
      },
      "source": [
        "정답 : 데이터 연결 언어(DCL)"
      ]
    },
    {
      "cell_type": "markdown",
      "metadata": {
        "id": "rpAaNfm1FUEf"
      },
      "source": [
        "[문제9]\n",
        "\n",
        "데이터 처리 언어(DML)의 설명으로 틀린것을 골라주세요\n",
        "\n",
        "- select : 데이터베이스에서 정보를 검색\n",
        "- insert : 새로운 데이터를 테이블에 삽입\n",
        "- count : 테이블의 데이터 개수 확인\n",
        "- delete : 테이블에서 데이터를 삭제"
      ]
    },
    {
      "cell_type": "markdown",
      "metadata": {
        "id": "_1ZUaUwPFUEf"
      },
      "source": [
        "정답 : count (집계함수)"
      ]
    }
  ],
  "metadata": {
    "colab": {
      "provenance": []
    },
    "language_info": {
      "name": "python"
    }
  },
  "nbformat": 4,
  "nbformat_minor": 0
}
