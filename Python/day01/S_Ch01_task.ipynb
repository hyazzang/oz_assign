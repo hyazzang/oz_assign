{
  "cells": [
    {
      "cell_type": "markdown",
      "metadata": {
        "id": "view-in-github",
        "colab_type": "text"
      },
      "source": [
        "<a href=\"https://colab.research.google.com/github/hyazzang/dalzza/blob/main/S_Ch01_task.ipynb\" target=\"_parent\"><img src=\"https://colab.research.google.com/assets/colab-badge.svg\" alt=\"Open In Colab\"/></a>"
      ]
    },
    {
      "cell_type": "markdown",
      "metadata": {
        "id": "9kAQM05x3sMg"
      },
      "source": [
        "<span style=\"font-size:100%\">\n",
        "\n",
        "수업은 모두 열심히 들으셨나요?\n",
        "\n",
        "간혹 강의에서 언급되지 않은 내용이 문제로 나올 수 있습니다.<br>\n",
        "그럴땐 강의 내용 외 문제는 구글링을 통해 해결해주세요<br></span>\n",
        "<span style=\"font-size:80%\">\n",
        "(구글링 또한 개발자가 갖쳐야할 역량 중에 하나랍니다 😊)\n",
        "</span>\n",
        "\n",
        "---"
      ]
    },
    {
      "cell_type": "markdown",
      "metadata": {
        "id": "4TC7V_V73sMh"
      },
      "source": [
        "<span style=\"font-size:80%\">[문제1]<br><br></span>\n",
        "```인터프리트 방식에 대해 설명하고 2개 이상의 장점을 설명해주세요```"
      ]
    },
    {
      "cell_type": "markdown",
      "metadata": {
        "id": "MPKeycS53sMh"
      },
      "source": [
        "<span style=\"color:red\">답변</span>"
      ]
    },
    {
      "cell_type": "markdown",
      "metadata": {
        "id": "Bz02_e4i3sMi"
      },
      "source": [
        "코드를 한줄씩 해석하여 실행하는 프로그램\n",
        "\n",
        "\n",
        "장점 1. 수정이 간단하다.\n",
        "\n",
        "장점 2. 메모리를 사용하지 않는다."
      ]
    },
    {
      "cell_type": "markdown",
      "metadata": {
        "id": "XQP6S_lz3sMi"
      },
      "source": [
        "---"
      ]
    },
    {
      "cell_type": "markdown",
      "metadata": {
        "id": "FcGPeABA3sMi"
      },
      "source": [
        "<span style=\"font-size:80%\">[문제2]<br><br></span>\n",
        "```동적 타입 방식의 장점과 단점을 간략히 설명해주세요```"
      ]
    },
    {
      "cell_type": "markdown",
      "metadata": {
        "id": "4jUk6K3I3sMi"
      },
      "source": [
        "<span style=\"color:red\">답변</span>"
      ]
    },
    {
      "cell_type": "markdown",
      "metadata": {
        "id": "H3AXfiaP3sMi"
      },
      "source": [
        "장점 1.코드 실행시 자동적으로 변수의 타입을 판단하여 지정해준다.\n",
        "\n",
        "장점 2.타입을 매번 지정 하지않아도 되기때문에 써줄 필요가 없기 때문에 작성자가 보다 빠르게 코드를 작성할 수 있다.\n",
        "\n",
        "\n",
        "단점 1. 실행 도중에 변수에 예상치 못한 자료형이 들어와 타입 에러를 발생할 수 있다.\n",
        "\n",
        "단점 2. 타입 관련 에러는 런타임 시 확인 가능하기 때문에 코드가 길고 복잡해질 경우엔 타입 에러를 찾기가 어려워진다."
      ]
    },
    {
      "cell_type": "markdown",
      "metadata": {
        "id": "86UBQQMV3sMi"
      },
      "source": [
        "---"
      ]
    },
    {
      "cell_type": "markdown",
      "metadata": {
        "id": "UD9GKhsF3sMj"
      },
      "source": [
        "<span style=\"font-size:80%\">[문제3]<br><br></span>\n",
        "```Python으로 정적타입 방식의 코드를 작성할 수 있는 방법을 구글링을 통해 검색 후 설명해주세요```"
      ]
    },
    {
      "cell_type": "markdown",
      "metadata": {
        "id": "ZPMACmJs3sMj"
      },
      "source": [
        "<span style=\"color:red\">답변</span>"
      ]
    },
    {
      "cell_type": "markdown",
      "metadata": {
        "id": "a94dzGBL3sMj"
      },
      "source": [
        "Python 3.6+의 버전부터 Type Hinting 이란 기능을 사용해서 정적타입 방식의 코드를 작성할 수 있다."
      ]
    },
    {
      "cell_type": "markdown",
      "metadata": {
        "id": "JLr22PZ33sMj"
      },
      "source": [
        "---"
      ]
    },
    {
      "cell_type": "markdown",
      "metadata": {
        "id": "-is8l9YV3sMj"
      },
      "source": [
        "<span style=\"font-size:80%\">[문제4]<br><br></span>\n",
        "```프로세스와 스레드의 차이점을 설명해주세요```"
      ]
    },
    {
      "cell_type": "markdown",
      "metadata": {
        "id": "cazuCI0n3sMj"
      },
      "source": [
        "<span style=\"color:red\">답변</span>"
      ]
    },
    {
      "cell_type": "markdown",
      "metadata": {
        "id": "tID1fhbD3sMj"
      },
      "source": [
        "프로세스는 독립된 메모리 공간에서 실행되지만, 스레드는 프로세스 내에서 메모리를 공유하며 실행됩니다."
      ]
    },
    {
      "cell_type": "markdown",
      "metadata": {
        "id": "RfF7_LYo3sMk"
      },
      "source": [
        "---"
      ]
    },
    {
      "cell_type": "markdown",
      "metadata": {
        "id": "_LU34kPL3sMk"
      },
      "source": [
        "<span style=\"font-size:80%\">[문제5]<br><br></span>\n",
        "```Python 2버전대와 3버전대의 차이를 성명해주세요```"
      ]
    },
    {
      "cell_type": "markdown",
      "metadata": {
        "id": "oPHvnLjn3sMk"
      },
      "source": [
        "<span style=\"color:red\">답변</span>"
      ]
    },
    {
      "cell_type": "markdown",
      "metadata": {
        "id": "y_W6R3Yd3sMk"
      },
      "source": [
        "1. 저장방식\n",
        "  - Python2 ASCII / Python3 Unicode\n",
        "\n",
        "\n",
        "2. print 구문의 차이\n",
        "  - Python2 : print\"Hello world\"\n",
        "  - Python3 : print(\"Hello world\")\n",
        "\n",
        "\n",
        "3. Python 3은 다양한 기능 개선이 이루어졌다.\n",
        "  - 정수 처리 기능 개선\n",
        "  - 가비지 수집 및 메모리 할당 기능 개선\n",
        "  - 기존 목록 기반으로 목록을 만드는 기능 추가"
      ]
    },
    {
      "cell_type": "markdown",
      "metadata": {
        "id": "okpNpPbh3sMk"
      },
      "source": [
        "---"
      ]
    },
    {
      "cell_type": "markdown",
      "metadata": {
        "id": "RDj8zY583sMk"
      },
      "source": [
        "<span style=\"font-size:80%\">[문제6]<br><br></span>\n",
        "```Python에서 메모리 관리는 어떻게 이루어지는지 설명해주세요```"
      ]
    },
    {
      "cell_type": "markdown",
      "metadata": {
        "id": "lFWqcCZW3sMk"
      },
      "source": [
        "<span style=\"color:red\">답변</span>"
      ]
    },
    {
      "cell_type": "markdown",
      "metadata": {
        "id": "rd70l1_n3sMk"
      },
      "source": [
        " Garbage Collector를 이용해 자동으로 메모리를 관리합니다. GC 기법으로는 Reference Counter, Generational GC가 있습니다."
      ]
    }
  ],
  "metadata": {
    "language_info": {
      "name": "python"
    },
    "colab": {
      "provenance": [],
      "include_colab_link": true
    }
  },
  "nbformat": 4,
  "nbformat_minor": 0
}