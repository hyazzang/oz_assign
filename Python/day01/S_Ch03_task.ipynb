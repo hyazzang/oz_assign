{
  "cells": [
    {
      "cell_type": "markdown",
      "metadata": {
        "id": "view-in-github",
        "colab_type": "text"
      },
      "source": [
        "<a href=\"https://colab.research.google.com/github/hyazzang/dalzza/blob/main/S_Ch03_task.ipynb\" target=\"_parent\"><img src=\"https://colab.research.google.com/assets/colab-badge.svg\" alt=\"Open In Colab\"/></a>"
      ]
    },
    {
      "cell_type": "markdown",
      "metadata": {
        "id": "ar5zRoncQk6W"
      },
      "source": [
        "<span style=\"font-size:100%\">\n",
        "\n",
        "수업은 모두 열심히 들으셨나요?\n",
        "\n",
        "간혹 강의에서 언급되지 않은 내용이 문제로 나올 수 있습니다.<br>\n",
        "그럴땐 강의 내용 외 문제는 구글링을 통해 해결해주세요<br></span>\n",
        "<span style=\"font-size:80%\">\n",
        "(구글링 또한 개발자가 갖쳐야할 역량 중에 하나랍니다 😊)\n",
        "</span>\n",
        "\n",
        "---"
      ]
    },
    {
      "cell_type": "markdown",
      "metadata": {
        "id": "_QKER6ZbQk6X"
      },
      "source": [
        "<span style=\"font-size:80%\">[문제1]<br><br></span>\n",
        "```주로 작성 중인 코드의 끝을 알리는 기호로 사용되며 파이썬에서 한 줄에 작성된 서로 다른 코드를 구분 지을 때 사용할 수 있는 기호를 골라주세요```\n",
        "\n",
        "1. ' , ' (쉼표)\n",
        "2. ' + ' (더하기 기호)\n",
        "3. ' ; ' (세미콜론)\n",
        "4. ' / ' (슬래시)"
      ]
    },
    {
      "cell_type": "markdown",
      "metadata": {
        "id": "e_aZAF-1Qk6X"
      },
      "source": [
        "<span style=\"color:red\">답변</span> :"
      ]
    },
    {
      "cell_type": "markdown",
      "metadata": {
        "id": "MMvwwK2iQk6X"
      },
      "source": [
        "3. ';'(세미콜론)"
      ]
    },
    {
      "cell_type": "markdown",
      "metadata": {
        "id": "-539y6V-Qk6X"
      },
      "source": [
        "----"
      ]
    },
    {
      "cell_type": "markdown",
      "metadata": {
        "id": "mzc3gUtrQk6X"
      },
      "source": [
        "<span style=\"font-size:80%\">[문제2]<br><br></span>\n",
        "```Python의 PEP 8은 무엇인지 설명하고 PEP 8의 핵심적인 규칙을 1개 이상을 설명해주세요```"
      ]
    },
    {
      "cell_type": "markdown",
      "metadata": {
        "id": "yXru3ybdQk6X"
      },
      "source": [
        "<span style=\"color:red\">답변</span>"
      ]
    },
    {
      "cell_type": "markdown",
      "metadata": {
        "id": "FgYh72MzQk6X"
      },
      "source": [
        "PEP8이란, Python의 표준 코딩 스타일 가이드이며 가독성과 일관성을 높이기 위해 권장된다.\n",
        "\n",
        "\n",
        "PEP8의 핵심 규칙\n",
        "\n",
        "1. 들여쓰기\n",
        "    - 코드 블록을 구분하기 위해 4개의 공백 문자를 사용해 들여쓰기 한다.\n",
        "    - 탭 대신 공백 문자를 사용하는 것이 권장된다.\n",
        "\n",
        "\n",
        "2. 최대 줄 길이\n",
        "    - 한 줄의 최대 길이를 79자로 제한한다.\n",
        "\n",
        "\n",
        "3. 공백\n",
        "    - 공백을 적절하게 사용하는 것을 권장한다.\n",
        "\n",
        "\n",
        "4. 주석\n",
        "    - 코드와 같은 줄에 작성하는 것이 좋다.\n",
        "    - 코드의 의도를 설명하는데 사용한다.\n",
        "    - 간결하고 명확해야 한다.\n",
        "\n",
        "\n",
        "5. 네이밍 컨벤션\n",
        "    - 변수, 함수, 메서드의 이름은 소문자로 작성하며, 여러 단어일 경우에는 밑줄(_)로 구분한다.\n",
        "    - 클래스의 이름은 첫글자를 대문자로 작성하며, 여러 단어일 경우에는 각 단어의 첫글자를 대문자로 작성한다.\n",
        "    - 모듈의 이름은 소문자로 작성한다.\n",
        "    - 상수의 이름은 모두 대문자로 작성한다.\n",
        "\n",
        "\n",
        "6. 임포트\n",
        "    - 모듈을 임포트 할때는 항상 전체 이름을 사용한다.\n",
        "    - 여러개의 모듈을 임포트 할때는 각 모듈을 새 줄에 작성한다.\n",
        "\n",
        "\n",
        "7. 문자열 인용\n",
        "    - 문자열을 표현할 때, 같은 종류의 따옴표를 사용한다.\n",
        "\n",
        "\n",
        "8. 표현식과 문장\n",
        "    - 가능한 짧게 작성한다.\n",
        "    - 가독성을 위해 가능한 한줄에 하나의 문장을 쓴다.\n",
        "    - 괄호로 표현식을 둘러싸고, 줄 바꿈 이후에는 추가 들여쓰기를 한다.\n",
        "    "
      ]
    },
    {
      "cell_type": "markdown",
      "metadata": {
        "id": "Pcp2oOH6Qk6X"
      },
      "source": [
        "----"
      ]
    },
    {
      "cell_type": "markdown",
      "metadata": {
        "id": "5cBtPLEhQk6X"
      },
      "source": [
        "<span style=\"font-size:80%\">[문제3]<br><br></span>\n",
        "```Python에서 \"#\"이 의마하는 것은 무엇인지 설명해주세요```"
      ]
    },
    {
      "cell_type": "markdown",
      "metadata": {
        "id": "AxtXZEwaQk6X"
      },
      "source": [
        "<span style=\"color:red\">답변</span>"
      ]
    },
    {
      "cell_type": "markdown",
      "metadata": {
        "id": "B1rFBmo5Qk6Y"
      },
      "source": [
        "코드를 작성하는 곳에 적어도 코드에 영향을 미치지 않는 부분(주석)입니다."
      ]
    },
    {
      "cell_type": "markdown",
      "metadata": {
        "id": "m7NgBc5sQk6Y"
      },
      "source": [
        "----"
      ]
    },
    {
      "cell_type": "markdown",
      "metadata": {
        "id": "j-yLo3MBQk6Y"
      },
      "source": [
        "<span style=\"font-size:80%\">[문제4]<br><br></span>\n",
        "```Python의 들여쓰기 장점과 기능에 대해 설명해주세요```"
      ]
    },
    {
      "cell_type": "markdown",
      "metadata": {
        "id": "KxdIOOylQk6Y"
      },
      "source": [
        "<span style=\"color:red\">답변</span>"
      ]
    },
    {
      "cell_type": "markdown",
      "metadata": {
        "id": "IAdLuMn7Qk6Y"
      },
      "source": [
        "가독성 향상:\n",
        "들여쓰기는 코드의 가독성을 향상시킨다. 코드 블록이 시작하고 끝나는 위치를 명확하게 보여줌으로써 어떤 부분이 어떤 블록에 속하는지 쉽게 이해할 수 있다.\n",
        "\n",
        "\n",
        "코드 일관성:\n",
        "모든 Python 코드에서 일관된 들여쓰기 규칙을 사용해야 한다.\n",
        "이는 코드베이스 전체에서 일관성 있는 스타일을 유지하고 코드를 더 쉽게 유지 보수할 수 있게 한다.\n",
        "\n",
        "\n",
        "블록 구분:\n",
        "들여쓰기를 사용하면 코드 블록의 시작과 끝이 명시적으로 표시되므로 중괄호를 사용하는 언어에서 발생하는 오류 중 일부를 방지할 수 있다.\n",
        "\n",
        "\n",
        "코드 블록 강제:\n",
        "들여쓰기는 코드 블록을 강제하므로 잘못된 코드 구조를 방지한다.\n",
        "코드 블록이 끝나는 위치를 표현하기 위해 중괄호를 사용하는 것보다 들여쓰기를 사용하는 것이 간단하고 실수를 줄일 수 있다.\n",
        "\n",
        "\n",
        "Python의 철학 (PEP 20 - Zen of Python):\n",
        "Zen of Python에서 \"가독성은 중요하다\"라는 원칙이 강조된다.\n",
        "들여쓰기를 통한 가독성은 Python의 설계 철학에 부합한다.\n",
        "\n",
        "\n",
        "문서화의 일부:\n",
        "Python에서는 주석과 함께 코드 블록을 문서화하는데, 이때 들여쓰기의 명확성이 중요한 역할을 한다.\n"
      ]
    },
    {
      "cell_type": "markdown",
      "metadata": {
        "id": "pOXSbKWkQk6Y"
      },
      "source": [
        "----"
      ]
    },
    {
      "cell_type": "markdown",
      "metadata": {
        "id": "doAZ6vXXQk6Y"
      },
      "source": [
        "<span style=\"font-size:80%\">[문제5]<br><br></span>\n",
        "```print( )문의 기능 및 특징에 대해 설명해주세요```"
      ]
    },
    {
      "cell_type": "markdown",
      "metadata": {
        "id": "PiXwJmAxQk6Y"
      },
      "source": [
        "<span style=\"color:red\">답변</span>"
      ]
    },
    {
      "cell_type": "markdown",
      "metadata": {
        "id": "FWyCs_Y0Qk6Y"
      },
      "source": [
        "Pyhton3 버전부터는 print가 구문에서 함수처럼 다루어졌다.\n",
        "\n",
        "\n",
        "print가 함수가 됨에 따라 구문의 유지보수가 쉬워졌고 가독성이 높아졌다.\n",
        "\n",
        "또한 함수가 됨으로 하나의 일급 객체로 취급될 수 있다. 즉, 함수를 변수에 할당할 수 있고 인자로 전달할 수 있고 다른 함수의 결과로 반환할 수 있다는 뜻이다."
      ]
    }
  ],
  "metadata": {
    "language_info": {
      "name": "python"
    },
    "colab": {
      "provenance": [],
      "include_colab_link": true
    },
    "kernelspec": {
      "name": "python3",
      "display_name": "Python 3"
    }
  },
  "nbformat": 4,
  "nbformat_minor": 0
}