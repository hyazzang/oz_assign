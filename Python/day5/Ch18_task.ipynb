{
  "cells": [
    {
      "cell_type": "markdown",
      "metadata": {
        "id": "Pphxqf1NpJMr"
      },
      "source": [
        "<span style=\"font-size:100%\">\n",
        "\n",
        "수업은 모두 열심히 들으셨나요?\n",
        "\n",
        "간혹 강의에서 언급되지 않은 내용이 문제로 나올 수 있습니다.<br>\n",
        "그럴땐 강의 내용 외 문제는 구글링을 통해 해결해주세요<br></span>\n",
        "<span style=\"font-size:80%\">\n",
        "(구글링 또한 개발자가 갖쳐야할 역량 중에 하나랍니다 😊)\n",
        "</span>\n",
        "\n",
        "---"
      ]
    },
    {
      "cell_type": "markdown",
      "metadata": {
        "id": "WjoAPOYZpJMt"
      },
      "source": [
        "<span style=\"font-size:80%\">[문제1]<br><br></span>\n",
        "```클래스 greeting 메서드를 호출하기 위해 필요한 코드를 작성해주세요```\n",
        "\n",
        "class Person:<br>\n",
        "&emsp;def greeting(self):<br>\n",
        "&emsp;&emsp;print('hello')<br>"
      ]
    },
    {
      "cell_type": "markdown",
      "metadata": {
        "id": "pmhFKPmPpJMt"
      },
      "source": [
        "<span style=\"color:red\">답변</span>"
      ]
    },
    {
      "cell_type": "code",
      "source": [
        "# 인스턴스(객체) 생성\n",
        "person = Person()\n",
        "\n",
        "# 메서드 호출\n",
        "person.greeting()"
      ],
      "metadata": {
        "id": "vC6QCfSMqR-M"
      },
      "execution_count": null,
      "outputs": []
    },
    {
      "cell_type": "markdown",
      "metadata": {
        "id": "FcRRcvmKpJMt"
      },
      "source": [
        "----"
      ]
    },
    {
      "cell_type": "markdown",
      "metadata": {
        "id": "j0DV99sDpJMt"
      },
      "source": [
        "<span style=\"font-size:80%\">[문제2]<br><br></span>\n",
        "```클래스로 인스턴스를 만들때 자동으로 호출되는 메서드를 적어주세요```"
      ]
    },
    {
      "cell_type": "markdown",
      "metadata": {
        "id": "d5qmqe7opJMu"
      },
      "source": [
        "<span style=\"color:red\">답변</span>"
      ]
    },
    {
      "cell_type": "code",
      "source": [
        "# __init__(self)"
      ],
      "metadata": {
        "id": "VwfvlX7vqm2A"
      },
      "execution_count": null,
      "outputs": []
    },
    {
      "cell_type": "markdown",
      "metadata": {
        "id": "cZIjfSrZpJMu"
      },
      "source": [
        "----"
      ]
    },
    {
      "cell_type": "markdown",
      "metadata": {
        "id": "kPzjfV-hpJMu"
      },
      "source": [
        "<span style=\"font-size:80%\">[문제3]<br><br></span>\n",
        "```Person 클래스에 인스턴스 속성인 name에 접근하는 방법으로 올바른 것을 골라주세요```\n",
        "\n",
        "```\n",
        "class Person:\n",
        "    def __init__(self, name):\n",
        "        self.name = name\n",
        "```\n",
        "\n",
        "1. Person.name\n",
        "2. name\n",
        "3. self\n",
        "4. self.name\n",
        "5. self[name]"
      ]
    },
    {
      "cell_type": "markdown",
      "metadata": {
        "id": "Js8KNQpbpJMu"
      },
      "source": [
        "<span style=\"color:red\">답변</span>"
      ]
    },
    {
      "cell_type": "markdown",
      "metadata": {
        "id": "Nku9oznJpJMu"
      },
      "source": [
        "4번\n",
        "\n",
        "* 1: Person은 클래스 속성임\n",
        "* 2: name만 사용하면 그냥 변수\n",
        "* 3: self는 인스턴스가 맞지만 .name(접근하려는 속성)이 입력되어야함\n",
        "* 5: []는 딕셔너리, 클래스에서 지원하지 않음"
      ]
    },
    {
      "cell_type": "markdown",
      "metadata": {
        "id": "T6l4RKd5pJMu"
      },
      "source": [
        "----"
      ]
    },
    {
      "cell_type": "markdown",
      "metadata": {
        "id": "0qKWw73hpJMu"
      },
      "source": [
        "<span style=\"font-size:80%\">[문제4]<br><br></span>\n",
        "```Person 클래스를 상속받아서 Student 클래스를 만드는 방법으로 올바른 것을 골라주세요```\n",
        "\n",
        "1. class Student(Person)\n",
        "2. class Student:Person\n",
        "3. class Student(Person):\n",
        "4. class Person(student):\n",
        "5. class Studen=Person:"
      ]
    },
    {
      "cell_type": "markdown",
      "metadata": {
        "id": "xFay9-DhpJMu"
      },
      "source": [
        "<span style=\"color:red\">답변</span>"
      ]
    },
    {
      "cell_type": "markdown",
      "metadata": {
        "id": "4AUywVMPpJMv"
      },
      "source": [
        "3번\n",
        "\n",
        "* 1: ':'가 없음\n",
        "* 2: Student 와 Person 사이에 ':'가 있으므로 클래스 정의가 아님\n",
        "* 4: student를 상속받아서 Person 클래스가 만들어짐\n",
        "* 5: 클래스 정의에서는 \"=\"를 사용하지 않음"
      ]
    },
    {
      "cell_type": "markdown",
      "metadata": {
        "id": "pQ3x_JYdpJMv"
      },
      "source": [
        "----"
      ]
    },
    {
      "cell_type": "markdown",
      "metadata": {
        "id": "rNOYu85fpJMv"
      },
      "source": [
        "<span style=\"font-size:80%\">[문제5]<br><br></span>\n",
        "```메서드 오버라이딩에 대한 설명으로 올바른 것을 골라주세요```\n",
        "\n",
        "1. 메서드 오버라이딩은 함수 이름을 다르게 만들어도 된다.\n",
        "2. 메서드 오버라이딩은 기반 클래스의 메서드는 무시하고 새로운 메서드를 만든다는 뜻이다\n",
        "3. 메서드 오버라이딩은 어떤 기능이 같은 이름으로 사용되어야 할 때 활용된다.\n",
        "4. 오버라이딩 된 메서드에서 기반 클래스의 메서드를 호출할 수 없다.\n",
        "5. 메서드 오버라이딩은 원래 기능을 유지하면서 새로운 기능을 덧붙일 때 사용한다."
      ]
    },
    {
      "cell_type": "markdown",
      "metadata": {
        "id": "5oAjx8RkpJMv"
      },
      "source": [
        "<span style=\"color:red\">답변</span>"
      ]
    },
    {
      "cell_type": "markdown",
      "metadata": {
        "id": "NKDLnBaKpJMv"
      },
      "source": [
        "3번, 5번\n",
        "\n",
        "* 1: 오버라이딩은 기반 클래스와 같은 이름의 메서드를 사용. 이름이 다르면 오버라이딩이 아니라 새로운 메서드를 정의하는 것.\n",
        "* 2: 오버라이딩은 필요에 따라 기능을 덮어쓰거나 추가적으로 수정하는 것을 의미. (무시x)\n",
        "* 4: 기반 클래스의 메서드를 호출 할 수 있음."
      ]
    }
  ],
  "metadata": {
    "language_info": {
      "name": "python"
    },
    "colab": {
      "provenance": []
    }
  },
  "nbformat": 4,
  "nbformat_minor": 0
}