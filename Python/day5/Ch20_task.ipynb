{
  "cells": [
    {
      "cell_type": "markdown",
      "metadata": {
        "id": "kI5GdKouy6CA"
      },
      "source": [
        "<span style=\"font-size:100%\">\n",
        "\n",
        "수업은 모두 열심히 들으셨나요?\n",
        "\n",
        "간혹 강의에서 언급되지 않은 내용이 문제로 나올 수 있습니다.<br>\n",
        "그럴땐 강의 내용 외 문제는 구글링을 통해 해결해주세요<br></span>\n",
        "<span style=\"font-size:80%\">\n",
        "(구글링 또한 개발자가 갖쳐야할 역량 중에 하나랍니다 😊)\n",
        "</span>\n",
        "\n",
        "---"
      ]
    },
    {
      "cell_type": "markdown",
      "metadata": {
        "id": "7CClQDs6y6CC"
      },
      "source": [
        "<span style=\"font-size:80%\">[문제1]<br><br></span>\n",
        "```다음 중 예외 처리에 대한 설명으로 잘못된 것을 모두 골라주세요```\n",
        "\n",
        "1. try의 코드에서 예외가 발생하면 except가 실행된다.\n",
        "2. 예외는 현재 함수의 코드 블록에서만 처리할 수 있다.\n",
        "3. try의 코드에서 예외가 발생하더라도 except가 실행되면 스크립트는 중단되지 않는다.\n",
        "4. try, except, else에서 예외가 발생하지 않으면 else가 실행된다.\n",
        "5. finally는 예외가 발생하면 실행되지 않는다."
      ]
    },
    {
      "cell_type": "markdown",
      "metadata": {
        "id": "26odgALOy6CC"
      },
      "source": [
        "<span style=\"color:red\">답변</span>"
      ]
    },
    {
      "cell_type": "markdown",
      "metadata": {
        "id": "ide6GyaEy6CD"
      },
      "source": [
        "2번, 5번\n",
        "\n",
        "* 2: 예외는 현재 함수의 코드 블록이 아니어도 처리할 수 있다.\n",
        "* 5: finally 블록은 예외 발생 여부 상관 없이 항상 실행  \n",
        "\n",
        "try  \n",
        "-> 예외 발생 X -> else -> finally  \n",
        "-> 예외 발생 O -> expert -> finally"
      ]
    },
    {
      "cell_type": "markdown",
      "metadata": {
        "id": "bT-atT2Sy6CD"
      },
      "source": [
        "----"
      ]
    },
    {
      "cell_type": "markdown",
      "metadata": {
        "id": "jWgoCT7ry6CD"
      },
      "source": [
        "<span style=\"font-size:80%\">[문제2]<br><br></span>\n",
        "```예외를 임의로 발생 시키는 명령어를 골라주세요```\n",
        "\n",
        "1. else\n",
        "2. raising\n",
        "3. except\n",
        "4. ZeroDivisionError\n",
        "5. raise"
      ]
    },
    {
      "cell_type": "markdown",
      "metadata": {
        "id": "d6xTVsHwy6CD"
      },
      "source": [
        "<span style=\"color:red\">답변</span>"
      ]
    },
    {
      "cell_type": "markdown",
      "metadata": {
        "id": "N0x_hqm8y6CD"
      },
      "source": [
        "5번\n",
        "\n",
        "* 1. else: try 블록 예외가 없을때 실행\n",
        "* 2. raising: 없는 명령어\n",
        "* 3. expert: try 블록 예외 발생시 처리하는 블록을 정의\n",
        "* 4. ZeroDivisionError: 특정 예외 이름"
      ]
    },
    {
      "cell_type": "markdown",
      "metadata": {
        "id": "X8kgCUSFy6CD"
      },
      "source": [
        "----"
      ]
    },
    {
      "cell_type": "markdown",
      "metadata": {
        "id": "8RPEIR6ry6CD"
      },
      "source": [
        "<span style=\"font-size:80%\">[문제3]<br><br></span>\n",
        "```인덱스의 범위를 벗어났을 때 발생하는 에러에 대한 예외처리를 담당하는 코드를 골라주세요```\n",
        "\n",
        "1. TypeError\n",
        "2. IndexError\n",
        "3. ZeroDivisionError\n",
        "4. KeyError\n",
        "5. SyntaxError"
      ]
    },
    {
      "cell_type": "markdown",
      "metadata": {
        "id": "mUuVp4zty6CD"
      },
      "source": [
        "<span style=\"color:red\">답변</span>"
      ]
    },
    {
      "cell_type": "markdown",
      "metadata": {
        "id": "D3upbNfxy6CE"
      },
      "source": [
        "2번\n",
        "\n",
        "* 1: TypeError: 지원되지 않는 연산을 사용하려 할때 (숫자+문자)\n",
        "* 3: ZeroDivisionError: 숫자를 0으로 나누려고 할때\n",
        "* 4: KeyError: 딕셔너리에 없는 키를 사용하려 할때\n",
        "* 5: SyntaxError: 문법에 어긋난 코드 실행"
      ]
    },
    {
      "cell_type": "markdown",
      "metadata": {
        "id": "VykRsJm2y6CE"
      },
      "source": [
        "----"
      ]
    }
  ],
  "metadata": {
    "language_info": {
      "name": "python"
    },
    "colab": {
      "provenance": []
    }
  },
  "nbformat": 4,
  "nbformat_minor": 0
}