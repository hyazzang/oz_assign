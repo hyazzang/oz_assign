{
  "cells": [
    {
      "cell_type": "markdown",
      "metadata": {
        "id": "AzUhS4aOAtix"
      },
      "source": [
        "<span style=\"font-size:100%\">\n",
        "\n",
        "수업은 모두 열심히 들으셨나요?\n",
        "\n",
        "간혹 강의에서 언급되지 않은 내용이 문제로 나올 수 있습니다.<br>\n",
        "그럴땐 강의 내용 외 문제는 구글링을 통해 해결해주세요<br></span>\n",
        "<span style=\"font-size:80%\">\n",
        "(구글링 또한 개발자가 갖쳐야할 역량 중에 하나랍니다 😊)\n",
        "</span>\n",
        "\n",
        "---"
      ]
    },
    {
      "cell_type": "markdown",
      "metadata": {
        "id": "jI69-P8LAtiz"
      },
      "source": [
        "<span style=\"font-size:80%\">[문제1]<br><br></span>\n",
        "두 수를 받은 뒤 곱한 결과를 반환하는 oz 함수를 만들어주세요\n"
      ]
    },
    {
      "cell_type": "markdown",
      "metadata": {
        "id": "_s_YJuunAtiz"
      },
      "source": [
        "<span style=\"color:red\">답변</span>"
      ]
    },
    {
      "cell_type": "code",
      "source": [
        "def oz(a, b): #a, b라는 매개변수를 갖고 있는 oz 함수를 정의\n",
        "    return a * b #a와 b를 곱한걸 반환한다."
      ],
      "metadata": {
        "id": "uG4-luWpBTGe"
      },
      "execution_count": null,
      "outputs": []
    },
    {
      "cell_type": "markdown",
      "metadata": {
        "id": "QoMMUCXqAtiz"
      },
      "source": []
    },
    {
      "cell_type": "markdown",
      "metadata": {
        "id": "Eiak_79NAti0"
      },
      "source": [
        "<span style=\"font-size:80%\">[문제2]<br><br></span>\n",
        "```\n",
        "아래 작성된 코드의 실행 결과를 설명해주세요\n",
        "\n",
        "print(\"A\")\n",
        "\n",
        "def message() :\n",
        "    print(\"B\")\n",
        "\n",
        "print(\"C\")\n",
        "\n",
        "message()\n",
        "\n",
        "```"
      ]
    },
    {
      "cell_type": "markdown",
      "metadata": {
        "id": "jXIWPxKVAti0"
      },
      "source": [
        "<span style=\"color:red\">답변</span>"
      ]
    },
    {
      "cell_type": "code",
      "source": [
        "print(\"A\") # A라는 문자열이 출력\n",
        "\n",
        "def message() : # message 라는 함수를 정의\n",
        "    print(\"B\") # 함수(message)가 호출되지 않았음. -> 출력 없음\n",
        "\n",
        "print(\"C\") # C라는 문자열이 출력\n",
        "\n",
        "message() # 정의했던 message 함수의 출력값인 print(\"B\")가 출력됨\n",
        "\n",
        "#결과값\n",
        "A\n",
        "B\n",
        "C"
      ],
      "metadata": {
        "id": "T_x9idsSCn8o"
      },
      "execution_count": null,
      "outputs": []
    },
    {
      "cell_type": "markdown",
      "metadata": {
        "id": "fNZw3x8gAti0"
      },
      "source": [
        "----"
      ]
    },
    {
      "cell_type": "markdown",
      "metadata": {
        "id": "oosZcpM9Ati1"
      },
      "source": [
        "<span style=\"font-size:80%\">[문제3]<br><br></span>\n",
        "```매개변수가 없는 oz 함수를 호출하는 방법으로 올바른 것을 골라주세요```\n",
        "\n",
        "1. def oz\n",
        "2. oz\n",
        "3. oz( )\n",
        "4. oz[ ]\n",
        "5. def oz:"
      ]
    },
    {
      "cell_type": "markdown",
      "metadata": {
        "id": "pWWKgjSxAti1"
      },
      "source": [
        "<span style=\"color:red\">답변</span>"
      ]
    },
    {
      "cell_type": "markdown",
      "metadata": {
        "id": "2vGdMK6BAti1"
      },
      "source": [
        "3번\n",
        "\n",
        "* def oz \"():\" 를 뒤에 붙여야 함. oz라는 함수를 정의하는 것\n",
        "* oz[] 잘못된 문법. []는 list 값을 만들때 사용\n",
        "* def oz\"()\": 괄호가 빠져있음."
      ]
    },
    {
      "cell_type": "markdown",
      "metadata": {
        "id": "lwA1Df9YAti1"
      },
      "source": [
        "----"
      ]
    },
    {
      "cell_type": "markdown",
      "metadata": {
        "id": "s6L_giHJAti2"
      },
      "source": [
        "<span style=\"font-size:80%\">[문4]<br><br></span>\n",
        "```문자열 하나를 입력받아 인터넷 주소를 반환하는 make_url 함수를 만들어주세요```\n",
        "\n",
        "예 ) make_url(\"google\")\n",
        "\n",
        "출력 : www.google.com"
      ]
    },
    {
      "cell_type": "markdown",
      "metadata": {
        "id": "EDw1nMX-Ati3"
      },
      "source": [
        "<span style=\"color:red\">답변</span>"
      ]
    },
    {
      "cell_type": "code",
      "source": [
        "def make_url(domain): # make_url 이란 함수를 정의, 매개변수 domain은 아래 문자열을 반환받음\n",
        "    return f\"www.{domain}.com\" #반환할 문자열 입력\n",
        "\n",
        "print(make_url(\"google\"))"
      ],
      "metadata": {
        "colab": {
          "base_uri": "https://localhost:8080/"
        },
        "id": "utPzBjWWETom",
        "outputId": "07fb140f-b258-4719-eac5-b6be6cd216cf"
      },
      "execution_count": 4,
      "outputs": [
        {
          "output_type": "stream",
          "name": "stdout",
          "text": [
            "www.google.com\n"
          ]
        }
      ]
    },
    {
      "cell_type": "markdown",
      "metadata": {
        "id": "UnnLhwI_Ati3"
      },
      "source": []
    },
    {
      "cell_type": "markdown",
      "metadata": {
        "id": "ycyEVHnBAti3"
      },
      "source": [
        "----"
      ]
    },
    {
      "cell_type": "markdown",
      "metadata": {
        "id": "aeCvqCODAti3"
      },
      "source": [
        "<span style=\"font-size:80%\">[문제5]<br><br></span>\n",
        "```아래 코드를 실행했을때 c의 값으로 올바른 것을 골라주세요```\n",
        "\n",
        "def 함수0(num) :<br>\n",
        "&emsp;&emsp;return num * 2<br>\n",
        "\n",
        "def 함수1(num) :<br>\n",
        "&emsp;&emsp;return 함수0(num + 2)<br>\n",
        "\n",
        "def 함수2(num) :<br>\n",
        "&emsp;&emsp;num = num + 10<br>\n",
        "&emsp;&emsp;return 함수1(num)<br>\n",
        "\n",
        "c = 함수2(2)<br>\n",
        "print(c)\n",
        "\n",
        "\n",
        "1. 1\n",
        "2. 5\n",
        "3. 3\n",
        "4. 4\n",
        "5. 28"
      ]
    },
    {
      "cell_type": "markdown",
      "metadata": {
        "id": "VpreA5pnAti3"
      },
      "source": [
        "<span style=\"color:red\">답변</span>"
      ]
    },
    {
      "cell_type": "code",
      "source": [
        "def 함수0(num): # 함수0 라는 함수를 정의\n",
        "    return num * 2 # 매개변수 num을 2배한 값을 반환\n",
        "\n",
        "def 함수1(num): # 함수1 라는 함수를 정의\n",
        "    return 함수0(num + 2) # 매개변수 num에 2를 더한 값을 함수0에 반환\n",
        "\n",
        "def 함수2(num): # 함수2 라는 함수를 정의\n",
        "    num = num + 10 # 매개변수 num에 10을 더함\n",
        "    return 함수1(num + 10) # 매개변수 num에 10을 더한 값을 함수1에 반환\n",
        "\n",
        "c = 함수2(2) # 2 + 10 = 12 > 함수1 호출(반환) > 12 + 2 = 14 > 함수0 호출(반환) > 14 * 2 = 28\n",
        "print(c) # c 변수 값을 출력"
      ],
      "metadata": {
        "id": "ZbSiDQrvFNnr"
      },
      "execution_count": null,
      "outputs": []
    },
    {
      "cell_type": "markdown",
      "metadata": {
        "id": "mbrGS40EAti3"
      },
      "source": [
        "5번"
      ]
    },
    {
      "cell_type": "markdown",
      "metadata": {
        "id": "oRMHsXE5Ati3"
      },
      "source": [
        "----"
      ]
    }
  ],
  "metadata": {
    "language_info": {
      "name": "python"
    },
    "colab": {
      "provenance": []
    },
    "kernelspec": {
      "name": "python3",
      "display_name": "Python 3"
    }
  },
  "nbformat": 4,
  "nbformat_minor": 0
}