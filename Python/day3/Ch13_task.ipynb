{
  "cells": [
    {
      "cell_type": "markdown",
      "metadata": {
        "id": "PJL9CRPDEC3C"
      },
      "source": [
        "<span style=\"font-size:100%\">\n",
        "\n",
        "수업은 모두 열심히 들으셨나요?\n",
        "\n",
        "간혹 강의에서 언급되지 않은 내용이 문제로 나올 수 있습니다.<br>\n",
        "그럴땐 강의 내용 외 문제는 구글링을 통해 해결해주세요<br></span>\n",
        "<span style=\"font-size:80%\">\n",
        "(구글링 또한 개발자가 갖쳐야할 역량 중에 하나랍니다 😊)\n",
        "</span>\n",
        "\n",
        "---"
      ]
    },
    {
      "cell_type": "markdown",
      "metadata": {
        "id": "h5aaAsV4EC3D"
      },
      "source": [
        "<span style=\"font-size:80%\">[문제1]<br><br></span>\n",
        "세트 money의 결과로 올바른 것을 골라주세요\n",
        "\n",
        "money = { '만원', '만원', '오만원', '백원', '오만원', '십원' }\n",
        "\n",
        "1. { '백원', '십원' }\n",
        "2. {'만원', '백원', '십원', '오만원'}\n",
        "3. {'만원', '백원', '십원'}\n",
        "4. {'만원',  '오만원'}"
      ]
    },
    {
      "cell_type": "markdown",
      "metadata": {
        "id": "DWNN7PzaEC3E"
      },
      "source": [
        "<span style=\"color:red\">답변</span>"
      ]
    },
    {
      "cell_type": "markdown",
      "metadata": {
        "id": "cqFDUaGbEC3E"
      },
      "source": [
        "2번\n",
        "\n",
        "이유: 세트는 중복을 허용하지 않기 때문에 중복된 값이 제거 됩니다."
      ]
    },
    {
      "cell_type": "markdown",
      "metadata": {
        "id": "gd-BW0FxEC3E"
      },
      "source": [
        "----"
      ]
    },
    {
      "cell_type": "markdown",
      "metadata": {
        "id": "QY5SDA4oEC3E"
      },
      "source": [
        "<span style=\"font-size:80%\">[문제2]<br><br></span>\n",
        "세트 x = {3, 6, 9} 그리고 y = {1, 2, 3}가 있을 때, 집합 연산의 결과로 잘못된 것을 모두 고르세요\n",
        "\n",
        "1. set.union(x, y)는 {1, 2, 3, 6, 9}\n",
        "2. x ^ y는 {1, 3, 6}\n",
        "3. x - y는 {6, 9}\n",
        "4. x & y는 { 3 }\n",
        "5. set.difference(y, x)는 { 2 }"
      ]
    },
    {
      "cell_type": "markdown",
      "metadata": {
        "id": "3b7GvwQfEC3E"
      },
      "source": [
        "<span style=\"color:red\">답변</span>"
      ]
    },
    {
      "cell_type": "markdown",
      "metadata": {
        "id": "q4PWiCxdEC3E"
      },
      "source": [
        "2번, 5번\n",
        "\n",
        "1: union() 두 집합의 모든 원소  \n",
        "2: ^ 두 집합에 모두 속하지 않는 원소  \n",
        "3: - x에 있고 y에 없는 원소  \n",
        "4: & 두 집합에 모두 속한 원소\n",
        "5: difference(y,x)는 y에서 x에 있는 원소를 제외한 원소"
      ]
    },
    {
      "cell_type": "markdown",
      "metadata": {
        "id": "pFFYEo5wEC3E"
      },
      "source": [
        "----"
      ]
    },
    {
      "cell_type": "markdown",
      "metadata": {
        "id": "WZa0gIntEC3F"
      },
      "source": [
        "<span style=\"font-size:80%\">[문제3]<br><br></span>\n",
        "과일 바구니 안에 두리안이 있는지 확인하기 위한 코드를 작성해 주세요\n",
        "\n",
        "과일_바구니 = {'사과', '포도', '샤인머스켓', '두리안'}"
      ]
    },
    {
      "cell_type": "markdown",
      "metadata": {
        "id": "M8j5aOKfEC3F"
      },
      "source": [
        "<span style=\"color:red\">답변</span>"
      ]
    },
    {
      "cell_type": "code",
      "source": [
        "# 과일 바구니 안에 두리안이 있을까?\n",
        "\n",
        "과일_바구니 = {'사과', '포도', '샤인머스켓', '두리안'} #있는뎅..\n",
        "\n",
        "if '두리안' in 과일_바구니:\n",
        "    print('두리안이 있다.')\n",
        "else:\n",
        "    print('두리안이 없다.')"
      ],
      "metadata": {
        "colab": {
          "base_uri": "https://localhost:8080/"
        },
        "id": "CxOv1nQBFW67",
        "outputId": "99c35baa-2f69-42fa-dfc6-7578049d295f"
      },
      "execution_count": 1,
      "outputs": [
        {
          "output_type": "stream",
          "name": "stdout",
          "text": [
            "바구니 안에 두리안이 있습니다.\n"
          ]
        }
      ]
    },
    {
      "cell_type": "markdown",
      "metadata": {
        "id": "ykWkBChIEC3F"
      },
      "source": []
    },
    {
      "cell_type": "markdown",
      "metadata": {
        "id": "w9Rpu8DDEC3F"
      },
      "source": [
        "----"
      ]
    },
    {
      "cell_type": "markdown",
      "metadata": {
        "id": "m9J0VfnzEC3F"
      },
      "source": [
        "<span style=\"font-size:80%\">[문제4]<br><br></span>\n",
        "메서드와 연산자의 기능이 잘못 짝지어진 것을 골라주세요\n",
        "\n",
        "1. set.intersection은 &와 같다.\n",
        "2. set.update는 |=와 같다.\n",
        "3. symmetric_difference_update는 -=와 같다.\n",
        "4. issuperset은 >와 같다.\n",
        "5. set.union은 |와 같다."
      ]
    },
    {
      "cell_type": "markdown",
      "metadata": {
        "id": "JHUIFTq2EC3F"
      },
      "source": [
        "<span style=\"color:red\">답변</span>"
      ]
    },
    {
      "cell_type": "markdown",
      "metadata": {
        "id": "-qyuaeD3EC3F"
      },
      "source": [
        "3번, 4번\n",
        "\n",
        "1: 교집합  \n",
        "2: 두 집합을 합집 후 첫번째 집합에 추가  \n",
        "3: symmetric_difference_update()는 대칭 차집합을 업데이트, -=는 차집합을 업데이트  \n",
        "4: issuperset()는 첫번째 집합이 두번째 집합을 포함하는지 확인, 올바른 연산자는 >=  \n",
        "5: 합집합"
      ]
    },
    {
      "cell_type": "markdown",
      "metadata": {
        "id": "iBD0Jc86EC3F"
      },
      "source": [
        "----"
      ]
    },
    {
      "cell_type": "markdown",
      "metadata": {
        "id": "VU78F00tEC3F"
      },
      "source": [
        "<span style=\"font-size:80%\">[문제5]<br><br></span>\n",
        "세트를 만드는 방법으로 올바르지 않은 것을 골라주세요\n",
        "\n",
        "1. x = {1, 2, 3, 4, 5}\n",
        "2. x = { }\n",
        "3. x = set('hello')\n",
        "4. x  = set(range(10))\n",
        "5. x = set()"
      ]
    },
    {
      "cell_type": "markdown",
      "metadata": {
        "id": "F_EYPcv4EC3F"
      },
      "source": [
        "<span style=\"color:red\">답변</span>"
      ]
    },
    {
      "cell_type": "markdown",
      "metadata": {
        "id": "F1VM1wbwEC3F"
      },
      "source": [
        "2번\n",
        "\n",
        "{}는 딕셔너리, 세트를 만드려면 ()를 사용해야한다."
      ]
    }
  ],
  "metadata": {
    "language_info": {
      "name": "python"
    },
    "colab": {
      "provenance": []
    },
    "kernelspec": {
      "name": "python3",
      "display_name": "Python 3"
    }
  },
  "nbformat": 4,
  "nbformat_minor": 0
}