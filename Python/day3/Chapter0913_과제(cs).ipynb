{
  "cells": [
    {
      "cell_type": "markdown",
      "metadata": {
        "id": "WXEwMsfUct7U"
      },
      "source": [
        "컴퓨터 기초 지식을 의미하는 CS(Computer science)는<br>\n",
        "코딩 테스트와 함께 기술 면접에서 지원자에게 필수적으로 요구합니다.<br>\n",
        "\n",
        "수업 내용 중 기술 면접에 자주 나오는 질문 3가지와 기본적으로 알아야 할 내용 과제로 선정했습니다.<br>\n",
        "\n",
        "관련 내용에 대해서는 구글링 또는 관련 서적을 통해 상세히 공부하시고<br>\n",
        "답변은 최대한 핵심만 담아 간결하게 작성해주세요<br>\n",
        "\n",
        "기술 블로그를 운영 중이신 경우<br>\n",
        "답변 내용을 기술 블로그에 작성하신 후 링크를 답변에 남겨주셔도 됩니다.<br>"
      ]
    },
    {
      "cell_type": "markdown",
      "metadata": {
        "id": "qoyC9wF-3hvs"
      },
      "source": [
        "-----"
      ]
    },
    {
      "cell_type": "markdown",
      "metadata": {
        "id": "rAD_O3Gmc_43"
      },
      "source": [
        "[문제1]\n",
        "\n",
        "list와 tuple의 주된 차이점은 무엇인가요?"
      ]
    },
    {
      "cell_type": "markdown",
      "metadata": {
        "id": "7cP1DCswtC-7"
      },
      "source": [
        "list 와 tuple 의 가장 큰 차이점은 [ 값을 변경할 수 있는 가의 여부 ] 입니다. 그 외의 차이점은 아래와 같습니다.  \n",
        "\n",
        "* list\n",
        "    - 가변성: 값 수정 가능\n",
        "    - 선언 방식: []로 작성\n",
        "    - key(해쉬값)로 쓸 수 없음\n",
        "   \n",
        "* tuple\n",
        "    - 불변성: 값 수정 불가\n",
        "    - 선언 방식: ()로 작성\n",
        "    - key(해쉬값)로 쓸 수 있음"
      ]
    },
    {
      "cell_type": "markdown",
      "metadata": {
        "id": "YfIE7tIRtC-8"
      },
      "source": [
        "---"
      ]
    },
    {
      "cell_type": "markdown",
      "metadata": {
        "id": "3uK_auXYdgk2"
      },
      "source": [
        "[문제2]\n",
        "\n",
        "Python의 set에 대해 설명해주세요"
      ]
    },
    {
      "cell_type": "markdown",
      "metadata": {
        "id": "a33t-m70tC-8"
      },
      "source": [
        "고유한 요소의 모음 입니다. 집합(set)의 목적은 [ 단일 변수에 여러 항목을 저장하는 것 ] 입니다.\n",
        "\n",
        "* 특징\n",
        "    - 순서가 없음\n",
        "    - 중복이 허용되지 않음\n",
        "    - 요소는 변경 불가능한 자료형만 사용 가능\n",
        "    - mutable 객체\n",
        "    - dict타입과 동일한 중괄호를 사용를 사용함으로 중괄호만으로는 생성할 수 없음"
      ]
    },
    {
      "cell_type": "markdown",
      "metadata": {
        "id": "vJlAJh-EtC-8"
      },
      "source": [
        "---"
      ]
    },
    {
      "cell_type": "markdown",
      "metadata": {
        "id": "wmX6TlxUtC-9"
      },
      "source": [
        "[문제3]\n",
        "\n",
        "Python의 list는 연결리스트(linked list)인가요?"
      ]
    },
    {
      "cell_type": "markdown",
      "metadata": {
        "id": "-9OA3pPvtC-9"
      },
      "source": [
        "python의 list는 연결리스트의 기능을 포함하고 있음으로 연결리스트가 맞습니다.  \n",
        "\n",
        "연결리스트(linked list)란?\n",
        "- 다른 추상 자료형을 구현할때 기반이 되는 기초 선형 자료 구조\n",
        "- 각 노드가 데이터와 포인터를 가지고 한줄로 연결되어있는 방식으로 데이터를 저장한다.\n",
        "\n",
        "노드: 데이터의 단위, 데이터를 저장하고 다음 노드를 가리키는 참조(주소)를 포함한다.\n",
        "\n",
        "* 연결 리스트의 특징\n",
        "    - 동적 크기: 크기가 고정되어 있지 않음. 필요에 따라 노드를 추가하거나 삭제하며 크기 조절 가능\n",
        "    - 삽입과 삭제가 쉬움: 삽입/삭제시 링크만 변경하면 됨\n",
        "    - 메모리 효율성: 필요한 만큼만 메모리를 할당하므로 메모리 낭비를 줄일 수 있음.\n",
        "\n",
        "* 파이썬에서는 모든 것이 객체이며, 변수는 객체를 참조하는 역할을 한다. 따라서 연결 리스트를 객체 지향 방식으로 쉽게 구현할 수 있다."
      ]
    },
    {
      "cell_type": "markdown",
      "metadata": {
        "id": "hfSpBlWwtC-9"
      },
      "source": [
        "---"
      ]
    },
    {
      "cell_type": "markdown",
      "metadata": {
        "id": "eA27RPT2tC-9"
      },
      "source": [
        "\n",
        "[문제4]\n",
        "\n",
        "딕셔너리 자료형에 대해 설명해주세요."
      ]
    },
    {
      "cell_type": "markdown",
      "metadata": {
        "id": "tZzCHDoTtC-9"
      },
      "source": [
        "* \"연관배열\" 또는 \"해시\"라고도 한다.\n",
        "* key와 Value를 한 쌍으로 가지는 자료형\n",
        "* list나 tuple 처럼 순차적으로 해당 요소값을 구하지 않고 key를 통해 Value를 얻는 방식\n",
        "* 위와 같은 특징 때문에 동일한 key가 중복으로 존재할 수 없음.\n",
        "* key에 list를 쓸 수 없다. (값이 변하기 때문) tuple은 사용할 수 있다. (값이 변하지 않기 때문)"
      ]
    },
    {
      "cell_type": "markdown",
      "metadata": {
        "id": "W4ReR8T_tC-9"
      },
      "source": [
        "---"
      ]
    }
  ],
  "metadata": {
    "colab": {
      "provenance": []
    },
    "kernelspec": {
      "display_name": "Python 3",
      "name": "python3"
    },
    "language_info": {
      "name": "python"
    }
  },
  "nbformat": 4,
  "nbformat_minor": 0
}