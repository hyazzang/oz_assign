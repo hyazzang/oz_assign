{
  "cells": [
    {
      "cell_type": "markdown",
      "metadata": {
        "id": "-p0Ykwcq9ekK"
      },
      "source": [
        "<span style=\"font-size:100%\">\n",
        "\n",
        "수업은 모두 열심히 들으셨나요?\n",
        "\n",
        "간혹 강의에서 언급되지 않은 내용이 문제로 나올 수 있습니다.<br>\n",
        "그럴땐 강의 내용 외 문제는 구글링을 통해 해결해주세요<br></span>\n",
        "<span style=\"font-size:80%\">\n",
        "(구글링 또한 개발자가 갖쳐야할 역량 중에 하나랍니다 😊)\n",
        "</span>\n",
        "\n",
        "---"
      ]
    },
    {
      "cell_type": "markdown",
      "metadata": {
        "id": "nPBjViN39ekM"
      },
      "source": []
    },
    {
      "cell_type": "markdown",
      "metadata": {
        "id": "K2DSko2D9ekM"
      },
      "source": [
        "<span style=\"font-size:80%\">[문제1]<br><br></span>\n",
        "tuple과 list의 차이점으로 올바른 것을 모두 골라주세요\n",
        "\n",
        "1. list만 인덱싱이 가능해 원하는 값을 인덱스로 추출할 수 있다.\n",
        "2. tuple은 불변이고 list는 가변이다.\n",
        "3. tuple은 소괄호( () )를 사용하고 리스트는 대괄호( [ ] )를 사용한다.\n",
        "4. 튜플은 입출력이 자주 발행하는 경우 사용하고 리스트는 입출력이 자주 발생하지 않는 상황에 사용한다"
      ]
    },
    {
      "cell_type": "markdown",
      "metadata": {
        "id": "QNAayJuQ9ekM"
      },
      "source": [
        "<span style=\"color:red\">답변</span>"
      ]
    },
    {
      "cell_type": "markdown",
      "metadata": {
        "id": "7__bcYCJ9ekM"
      },
      "source": [
        "2번, 3번\n",
        "\n",
        "1:tuple도 인덱싱이 가능하다.\n",
        "4: list는 가변성이기 때문에 입출력이 자주 발생하는 경우 사용하고 tuple은 불변성이기 때문에 입출력이 자주 발생하지 않는 상황에서 사용한다."
      ]
    },
    {
      "cell_type": "markdown",
      "metadata": {
        "id": "kV9O5vBU9ekN"
      },
      "source": [
        "----"
      ]
    },
    {
      "cell_type": "markdown",
      "metadata": {
        "id": "arJoEc6A9ekN"
      },
      "source": [
        "<span style=\"font-size:80%\">[문제2]<br><br></span>\n",
        "tuple a에 사용할 수 없는 코드를 골라주세요<br>\n",
        "a = (20, 10, 15)\n",
        "\n",
        "1. print(a[:])\n",
        "2. a.pop()\n",
        "3. sum(a)\n",
        "4. a.count(20)"
      ]
    },
    {
      "cell_type": "markdown",
      "metadata": {
        "id": "Ap88FHFr9ekN"
      },
      "source": [
        "<span style=\"color:red\">답변</span>"
      ]
    },
    {
      "cell_type": "markdown",
      "metadata": {
        "id": "XG4tzXsJ9ekN"
      },
      "source": [
        "2번\n",
        "\n",
        "1. tuple은 슬라이싱[:]이 가능하다.\n",
        "2. pop() 메소드는 list 요소 제거에 사용되며 tuple에 지원하지 않는다.\n",
        "3. tuple은 요소 합산(sum) 사용이 가능하다.\n",
        "4. tuple은 특정 값의 개수를 세는 것이 가능하다."
      ]
    },
    {
      "cell_type": "markdown",
      "metadata": {
        "id": "MPtdC4HP9ekN"
      },
      "source": [
        "----"
      ]
    },
    {
      "cell_type": "markdown",
      "metadata": {
        "id": "olYWNb1C9ekN"
      },
      "source": [
        "<span style=\"font-size:80%\">[문제3]<br><br></span>\n",
        "아래 코드를 실행시켰을 때 발생하는 상황과 원인을 간략히 설명해주세요\n",
        "\n",
        "```\n",
        "바구니 = ( \"상추\", \"깻잎\", \"삼겹살\")\n",
        "바구니[1] = \"고사리\"\n",
        "```"
      ]
    },
    {
      "cell_type": "markdown",
      "metadata": {
        "id": "ngIMUCRj9ekN"
      },
      "source": [
        "<span style=\"color:red\">답변</span>"
      ]
    },
    {
      "cell_type": "markdown",
      "metadata": {
        "id": "6pgOEwRw9ekO"
      },
      "source": [
        "tuple은 불변성이라 값을 변경할 수 없습니다. 값을 변경하기 위해서는 list로 변경해야 합니다.\n"
      ]
    },
    {
      "cell_type": "code",
      "source": [
        "# list로 변경하기\n",
        "\n",
        "바구니 = ( \"상추\", \"깻잎\", \"삼겹살\")\n",
        "바구니 = list(바구니)\n",
        "바구니[1] = \"고사리\"\n",
        "print(바구니)"
      ],
      "metadata": {
        "colab": {
          "base_uri": "https://localhost:8080/"
        },
        "id": "HVZKMUnE_SzJ",
        "outputId": "330a2d00-7020-4726-8f3e-d1058ec9ad8e"
      },
      "execution_count": 7,
      "outputs": [
        {
          "output_type": "stream",
          "name": "stdout",
          "text": [
            "['상추', '고사리', '삼겹살']\n"
          ]
        }
      ]
    },
    {
      "cell_type": "markdown",
      "metadata": {
        "id": "ZuewBeLt9ekO"
      },
      "source": [
        "----"
      ]
    }
  ],
  "metadata": {
    "language_info": {
      "name": "python"
    },
    "colab": {
      "provenance": []
    },
    "kernelspec": {
      "name": "python3",
      "display_name": "Python 3"
    }
  },
  "nbformat": 4,
  "nbformat_minor": 0
}