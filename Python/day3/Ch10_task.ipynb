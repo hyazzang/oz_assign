{
  "cells": [
    {
      "cell_type": "markdown",
      "metadata": {
        "id": "IIVWCWac5s1l"
      },
      "source": [
        "<span style=\"font-size:100%\">\n",
        "\n",
        "수업은 모두 열심히 들으셨나요?\n",
        "\n",
        "간혹 강의에서 언급되지 않은 내용이 문제로 나올 수 있습니다.<br>\n",
        "그럴땐 강의 내용 외 문제는 구글링을 통해 해결해주세요<br></span>\n",
        "<span style=\"font-size:80%\">\n",
        "(구글링 또한 개발자가 갖쳐야할 역량 중에 하나랍니다 😊)\n",
        "</span>\n",
        "\n",
        "---"
      ]
    },
    {
      "cell_type": "markdown",
      "metadata": {
        "id": "i4gCUT255s1m"
      },
      "source": [
        "<span style=\"font-size:80%\">[문제1]<br><br></span>\n",
        "아래 리스트에 들어있는 값의 평균을 구하는 코드를 작성해주세요\n",
        "\n",
        "x = [34, 22, 10, 3, 55, 66]"
      ]
    },
    {
      "cell_type": "markdown",
      "metadata": {
        "id": "n9kHZEkc5s1m"
      },
      "source": [
        "<span style=\"color:red\">답변</span>"
      ]
    },
    {
      "cell_type": "markdown",
      "metadata": {
        "id": "bsuLztfm5s1m"
      },
      "source": []
    },
    {
      "cell_type": "code",
      "source": [
        "# 평균값 구하기\n",
        "x = [34, 22, 10, 3, 55, 66]\n",
        "\n",
        "avg = sum(x) / len(x)\n",
        "\n",
        "print(f'평균값은 {avg}입니다.')\n",
        "print(f'정수로 계산할 경우 {int(avg)}입니다.')"
      ],
      "metadata": {
        "colab": {
          "base_uri": "https://localhost:8080/"
        },
        "id": "INEd88iO5w-H",
        "outputId": "797548e1-edca-445c-c519-e8b3232f283b"
      },
      "execution_count": 6,
      "outputs": [
        {
          "output_type": "stream",
          "name": "stdout",
          "text": [
            "평균값은 31.666666666666668입니다.\n",
            "정수로 계산할 경우 31입니다.\n"
          ]
        }
      ]
    },
    {
      "cell_type": "markdown",
      "metadata": {
        "id": "OcT0bSX95s1n"
      },
      "source": [
        "----"
      ]
    },
    {
      "cell_type": "markdown",
      "metadata": {
        "id": "KEDFKHDs5s1n"
      },
      "source": [
        "<span style=\"font-size:80%\">[문제2]<br><br></span>\n",
        "리스트 안에 있는 데이터를 오름차순으로 정렬하는 메소드를 모두 골라주세요\n",
        "\n",
        "1. upper()\n",
        "2. low()\n",
        "3. sort()\n",
        "4. hight()\n",
        "5. sorted()"
      ]
    },
    {
      "cell_type": "markdown",
      "metadata": {
        "id": "_YaALgQ85s1n"
      },
      "source": [
        "<span style=\"color:red\">답변</span>"
      ]
    },
    {
      "cell_type": "markdown",
      "metadata": {
        "id": "f1q9Rw_75s1n"
      },
      "source": [
        "3번, 5번\n",
        "\n",
        "\n",
        "1. upper(): 모든 알파벳을 대문자로 변환\n",
        "2. lower(): 모든 알파벳을 소문자로 변환\n",
        "\n",
        "Q. hight, low 라는 메소드 함수가 있나요,,? 검색해도 안떠서 2번은 lower로 대체해서 찾아봤는데,, hight는 없는 것 같아서요.."
      ]
    },
    {
      "cell_type": "markdown",
      "metadata": {
        "id": "J_LQOhrU5s1n"
      },
      "source": [
        "----"
      ]
    },
    {
      "cell_type": "markdown",
      "metadata": {
        "id": "va_n_wc95s1n"
      },
      "source": [
        "<span style=\"font-size:80%\">[문제3]<br><br></span>\n",
        "리스트 x가 있을 때 x.append(7)과 결과가 동일한 것을 모두 골라주세요\n",
        "\n",
        "\n",
        "1. x[-1:] = [7]\n",
        "2. x.insert(len(x), 7)\n",
        "3. x[0:] = 7\n",
        "4. x[len(x):] = 7\n",
        "5. x[len(x):] = [7]"
      ]
    },
    {
      "cell_type": "markdown",
      "metadata": {
        "id": "hP2tjaFF5s1n"
      },
      "source": [
        "<span style=\"color:red\">답변</span>"
      ]
    },
    {
      "cell_type": "markdown",
      "metadata": {
        "id": "G_nxFPRX5s1n"
      },
      "source": [
        "2번, 5번"
      ]
    },
    {
      "cell_type": "markdown",
      "metadata": {
        "id": "vydN3Amd5s1n"
      },
      "source": [
        "----"
      ]
    },
    {
      "cell_type": "markdown",
      "metadata": {
        "id": "pdzzA86u5s1o"
      },
      "source": [
        "<span style=\"font-size:80%\">[문제4]<br><br></span>\n",
        "리스트의 모든 요소를 삭제하는 메서드를 골라주세요\n",
        "\n",
        "1. remove\n",
        "2. clean\n",
        "3. pop\n",
        "4. clear\n",
        "5. reverse"
      ]
    },
    {
      "cell_type": "markdown",
      "metadata": {
        "id": "aRzKSDFN5s1o"
      },
      "source": [
        "<span style=\"color:red\">답변</span>"
      ]
    },
    {
      "cell_type": "markdown",
      "metadata": {
        "id": "NlxI50c65s1o"
      },
      "source": [
        "2번\n",
        "\n",
        "1. remove: 리스트의 구성 요소 제거\n",
        "3. pop: 리스트의 마지막 요소를 반환하고 그 요소를 삭제\n",
        "5. reverse: 값을 반환하지 않고, 단순히 list를 뒤섞어줌."
      ]
    },
    {
      "cell_type": "markdown",
      "metadata": {
        "id": "rO-DpohM5s1o"
      },
      "source": [
        "----"
      ]
    },
    {
      "cell_type": "markdown",
      "metadata": {
        "id": "JHdjmf7e5s1o"
      },
      "source": [
        "<span style=\"font-size:80%\">[문제5]<br><br></span>\n",
        "[3.1, 6.7, 4.4]가 들어있는 리스트의 값을 문자열로 변환 후 다시 리스트로 만들어 변수 x에 담는 코드를 골라주세요\n",
        "\n",
        "1. x = list(str, [3.1, 6.7, 4.4])\n",
        "2. x = map(str, [3.1, 6.7, 4.4])\n",
        "3. x = str([3.1, 6.7, 4.4])\n",
        "4. x = list(map(str, [3.1, 6.7, 4.4]))\n",
        "5. x = map(int, [3.1, 6.7, 4.4])"
      ]
    },
    {
      "cell_type": "markdown",
      "metadata": {
        "id": "jCmu3nku5s1o"
      },
      "source": [
        "<span style=\"color:red\">답변</span>"
      ]
    },
    {
      "cell_type": "markdown",
      "metadata": {
        "id": "GA2APHnz5s1o"
      },
      "source": [
        "4번"
      ]
    },
    {
      "cell_type": "code",
      "source": [
        "# [3.1,6.7,4.4]가 들어있는 리스트의 값 = list\n",
        "# 문자열로 변환 = str\n",
        "# 리스트로 만들어 = map"
      ],
      "metadata": {
        "id": "ZTXDPgrw7JM-"
      },
      "execution_count": null,
      "outputs": []
    }
  ],
  "metadata": {
    "language_info": {
      "name": "python"
    },
    "colab": {
      "provenance": []
    },
    "kernelspec": {
      "name": "python3",
      "display_name": "Python 3"
    }
  },
  "nbformat": 4,
  "nbformat_minor": 0
}