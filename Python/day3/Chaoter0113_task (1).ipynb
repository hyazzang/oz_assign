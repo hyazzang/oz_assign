{
  "cells": [
    {
      "cell_type": "markdown",
      "metadata": {
        "id": "fD4Qab2qYgOm"
      },
      "source": [
        "안녕하세요. 수강생 여러분~!\n",
        "\n",
        "Chapter01 ~ 13의 수업 내용을 바탕으로 아래 문제를 풀어주시면 됩니다 !\n",
        "\n",
        "지금까지 잘 해오셨으니까, 총 복습한다고 생각하시고 한번 도전해보세요 !!!\n",
        "\n",
        "\n",
        "<br>\n",
        "\n",
        "\n",
        "[**답변 입력 방법**]\n",
        "\n",
        "문제 아래에 있는 코드 입력창에 정답코드를 작성하신 후  __▷ 버튼을 클릭해 코드를 실행__ 해보세요<br>"
      ]
    },
    {
      "cell_type": "markdown",
      "metadata": {
        "id": "_ROqUf8NhT3P"
      },
      "source": [
        "---"
      ]
    },
    {
      "cell_type": "markdown",
      "metadata": {
        "id": "jHM17NDNhT3Q"
      },
      "source": [
        "### 프로젝트: 간단한 ATM 관리 시스템\n",
        "<br>\n",
        "\n",
        "__[문제 1: 잔액 확인]__\n",
        "\n",
        "현재 잔액은 1000원입니다. 현재 잔액을 출력하세요.\n",
        "\n",
        "(변수명 예시 : 잔액 - balance)"
      ]
    },
    {
      "cell_type": "code",
      "execution_count": null,
      "metadata": {
        "colab": {
          "base_uri": "https://localhost:8080/"
        },
        "id": "d0N0x17VhT3Q",
        "outputId": "a97e788b-aed5-47b4-e6b7-1df2397c3e2e"
      },
      "outputs": [
        {
          "output_type": "stream",
          "name": "stdout",
          "text": [
            "현재 잔액은 1000원 입니다.\n"
          ]
        }
      ],
      "source": [
        "# 잔액 구하기\n",
        "balance = 1000\n",
        "print(f'현재 잔액은 {balance}원 입니다.')"
      ]
    },
    {
      "cell_type": "markdown",
      "metadata": {
        "id": "vOICB7dIhT3Q"
      },
      "source": [
        "__[문제 2: 입금]__\n",
        "\n",
        "가지고 있는 돈을 입금합니다.\n",
        "\n",
        "입금 금액을 입력받고, 잔액을 갱신한 후 새로운 잔액을 출력하세요. 입금 거래를 영수증 리스트에 기록하세요.\n",
        "\n",
        "- 입금 금액은 input()을 이용해 받습니다.\n",
        "- 영수증은 list()로 선언합니다.\n",
        "- 영수증에 들어가는 정보는 튜플 형태입니다.\n",
        "- 튜플에 담기는 정보는 (입금 or 출금, 입금 or 출금 금액, 현재 잔액)순 입니다.\n",
        "\n",
        "(변수명 예시: 영수증 리스트 - receipts, 입금 금액 - deposit_amount)\n"
      ]
    },
    {
      "cell_type": "code",
      "source": [
        "receipts_in = [] # 영수증 리스트"
      ],
      "metadata": {
        "id": "1S2seWpXuY5A"
      },
      "execution_count": 97,
      "outputs": []
    },
    {
      "cell_type": "code",
      "execution_count": 99,
      "metadata": {
        "id": "D6SL8jxThT3R",
        "colab": {
          "base_uri": "https://localhost:8080/"
        },
        "outputId": "35eac295-2d13-4b6f-8a68-087f5d5638a2"
      },
      "outputs": [
        {
          "output_type": "stream",
          "name": "stdout",
          "text": [
            "입금 금액: 3000\n",
            "입금 완료. 현재 잔액은 1280922원 입니다.\n",
            "영수증: ('입금', 3000, 1280922)\n"
          ]
        }
      ],
      "source": [
        "# 돈을 입금 > 입금 금액 입력 받기 > 잔액 갱신 > 새로운 잔액 > 입금 거래 영수증 기록\n",
        "\n",
        "deposit_amount = int(input(\"입금 금액: \")) # 입금 금액 입력\n",
        "balance += deposit_amount # 잔액 갱신\n",
        "receipts_in.append((\"입금\", deposit_amount, balance)) #영수증 기록\n",
        "\n",
        "print(f'입금 완료. 현재 잔액은 {balance}원 입니다.')\n",
        "print(\"영수증:\", receipts_in[-1])"
      ]
    },
    {
      "cell_type": "markdown",
      "metadata": {
        "id": "lcuQTpHFhT3R"
      },
      "source": [
        "__[문제 3: 출금]__\n",
        "\n",
        "사용자가 돈을 출금합니다. 출금 금액을 입력받고, 잔액을 갱신한 후 새로운 잔액을 출력하세요. 출금 거래를 영수증 리스트에 기록하세요.\n",
        "\n",
        "- 출금 금액은 input()을 이용해 받습니다.\n",
        "- 현재 잔액보다 출금 요청 금액이 많을 경우 현재 잔액 만큼만 출금되도록 합니다.\n",
        "- 영수증에 들어가는 정보는 튜플 형태입니다.\n",
        "- 튜플에 담기는 정보는 (입금 or 출금, 입금 or 출금 금액, 현재 잔액)순 입니다.\n",
        "\n",
        "(변수명 예시: 출금금액 - withdraw_amount)"
      ]
    },
    {
      "cell_type": "code",
      "source": [
        "receipts_out = [] # 영수증 리스트"
      ],
      "metadata": {
        "id": "0CMWDzOCuWun"
      },
      "execution_count": 100,
      "outputs": []
    },
    {
      "cell_type": "code",
      "execution_count": 102,
      "metadata": {
        "id": "6tHWJy6ZhT3R",
        "colab": {
          "base_uri": "https://localhost:8080/"
        },
        "outputId": "82a7f74c-8db3-423e-b713-97354dd02d04"
      },
      "outputs": [
        {
          "output_type": "stream",
          "name": "stdout",
          "text": [
            "출금 금액: 5000\n",
            "출금 완료. 현재 잔액은 1270922원 입니다.\n",
            "영수증: ('출금', 5000, 1270922)\n"
          ]
        }
      ],
      "source": [
        "# 출금 > 출금 금액 입력 > 새로운 잔액 출력 > 영수증 기록\n",
        "\n",
        "withdraw_amount = int(input(\"출금 금액: \")) # 출금 금액 입력\n",
        "if withdraw_amount > balance: # 출금액이 잔액보다 많으면\n",
        "    print(f\"요청 금액이 잔액보다 많습니다. 현재 잔액 {balance}원만 출금합니다.\")\n",
        "    withdraw_amount = balance # 출금액과 잔액이 같다면 출금액을 현재 잔액만큼 출금\n",
        "balance -= withdraw_amount # 잔액 갱신\n",
        "receipts_out.append((\"출금\", withdraw_amount, balance)) # 영수증 기록\n",
        "\n",
        "print(f'출금 완료. 현재 잔액은 {balance}원 입니다.')\n",
        "print(\"영수증:\", receipts_out[-1])"
      ]
    },
    {
      "cell_type": "markdown",
      "metadata": {
        "id": "4Fyu0otzhT3R"
      },
      "source": [
        "__[문제 4: 모든 거래 내역 확인]__\n",
        "\n",
        "모든 거래 내역(영수증)을 요청받았을 때 출력하세요.\n",
        "- 지금까지 영수증에 추가된 정보를 출력합니다.\n",
        "- 출력 형태는 자유입니다."
      ]
    },
    {
      "cell_type": "code",
      "source": [
        "receipts = receipts_in + receipts_out"
      ],
      "metadata": {
        "id": "wwrEVqrKu5G2"
      },
      "execution_count": 103,
      "outputs": []
    },
    {
      "cell_type": "code",
      "execution_count": 104,
      "metadata": {
        "colab": {
          "base_uri": "https://localhost:8080/"
        },
        "id": "Ed7gUH6GhT3R",
        "outputId": "778cc21f-2e63-496f-b9aa-be22e0073f09"
      },
      "outputs": [
        {
          "output_type": "stream",
          "name": "stdout",
          "text": [
            "모든 거래 내역:\n",
            "1, 거래구분: 입금, 금액: 45000원, 잔액: 1277922원\n",
            "2, 거래구분: 입금, 금액: 3000원, 잔액: 1280922원\n",
            "3, 거래구분: 출금, 금액: 5000원, 잔액: 1275922원\n",
            "4, 거래구분: 출금, 금액: 5000원, 잔액: 1270922원\n"
          ]
        }
      ],
      "source": [
        "# 모든 거래 내역 출력\n",
        "\n",
        "print(\"모든 거래 내역:\")\n",
        "for idx, receipt in enumerate(receipts, start=1):\n",
        "    print(f'{idx}, 거래구분: {receipt[0]}, 금액: {receipt[1]}원, 잔액: {receipt[2]}원')"
      ]
    }
  ],
  "metadata": {
    "colab": {
      "provenance": []
    },
    "kernelspec": {
      "display_name": "Python 3",
      "name": "python3"
    },
    "language_info": {
      "name": "python"
    }
  },
  "nbformat": 4,
  "nbformat_minor": 0
}