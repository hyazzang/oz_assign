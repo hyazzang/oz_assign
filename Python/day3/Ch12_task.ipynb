{
  "cells": [
    {
      "cell_type": "markdown",
      "metadata": {
        "id": "iEZmTVmwAQ9j"
      },
      "source": [
        "<span style=\"font-size:100%\">\n",
        "\n",
        "수업은 모두 열심히 들으셨나요?\n",
        "\n",
        "간혹 강의에서 언급되지 않은 내용이 문제로 나올 수 있습니다.<br>\n",
        "그럴땐 강의 내용 외 문제는 구글링을 통해 해결해주세요<br></span>\n",
        "<span style=\"font-size:80%\">\n",
        "(구글링 또한 개발자가 갖쳐야할 역량 중에 하나랍니다 😊)\n",
        "</span>\n",
        "\n",
        "---"
      ]
    },
    {
      "cell_type": "markdown",
      "metadata": {
        "id": "VHyo0z72AQ9k"
      },
      "source": [
        "<span style=\"font-size:80%\">[문제1]<br><br></span>\n",
        "딕셔너리 x에서 키에 해당하는 값을 모두 삭제하는 방법으로 옳은 것을 모두 골라주세요\n",
        "\n",
        "x = {'banana':3000, 'apple':1500, 'orange':2000}\n",
        "\n",
        "1. x.pop('apple')\n",
        "2. x.remove('python')\n",
        "3. del x['orange']\n",
        "4. x.popitem()"
      ]
    },
    {
      "cell_type": "markdown",
      "metadata": {
        "id": "kszJCO8NAQ9l"
      },
      "source": [
        "<span style=\"color:red\">답변</span>"
      ]
    },
    {
      "cell_type": "markdown",
      "metadata": {
        "id": "xW19Y5QmAQ9l"
      },
      "source": [
        "1번, 3번\n",
        "\n",
        "1: pop() 딕셔너리에서 지정된 키('apple')에 해당하는 값을 제거  \n",
        "2: remove() 딕셔너리에 해당 메소드는 없음  \n",
        "3: del 키워드를 사용해 지정한 키('orange')를 제거  \n",
        "4: popitem() 딕셔너리에서 마지막으로 추가된 key-value 쌍을 삭제하고 삭제한 쌍을 반환  "
      ]
    },
    {
      "cell_type": "markdown",
      "metadata": {
        "id": "UTWoh7wPAQ9l"
      },
      "source": [
        "----"
      ]
    },
    {
      "cell_type": "markdown",
      "metadata": {
        "id": "8-b9w_gnAQ9l"
      },
      "source": [
        "<span style=\"font-size:80%\">[문제2]<br><br></span>\n",
        "딕셔너리의 메서드에 대한 설명으로 올바르지 않은 것을 모두 고르세요<br>\n",
        "\n",
        "1. setdefault는 키만 지정하면 값은 0으로 저장한다.\n",
        "2. update는 딕셔너리에서 키의 value 값을 수정한다.\n",
        "3. keys는 딕셔너리의 키-값 쌍을 모두 가져온다.\n",
        "4. clear는 딕셔너리의 모든 키-값 쌍을 삭제한다.\n",
        "5. setdefault에 키와 값을 넣어 실행하면 기존 딕셔너리에 없는 키값일 경우 키-값 쌍을 추가한다."
      ]
    },
    {
      "cell_type": "markdown",
      "metadata": {
        "id": "GuiL9x9UAQ9l"
      },
      "source": [
        "<span style=\"color:red\">답변</span>"
      ]
    },
    {
      "cell_type": "markdown",
      "metadata": {
        "id": "mwxLqQPWAQ9m"
      },
      "source": [
        "1번, 3번\n",
        "\n",
        "1: setdefalut() 값이 주어지지 않으면 기본값은 none으로 설정  \n",
        "3번: keys() 딕셔너리에서 key만 가져온다."
      ]
    },
    {
      "cell_type": "markdown",
      "metadata": {
        "id": "93w5xuaeAQ9m"
      },
      "source": [
        "----"
      ]
    },
    {
      "cell_type": "markdown",
      "metadata": {
        "id": "xdfqx-yVAQ9m"
      },
      "source": [
        "<span style=\"font-size:80%\">[문제3]<br><br></span>\n",
        "평균 점수를 구하는 코드를 result 변수에 작성해주세요\n",
        "\n",
        "```\n",
        "ozkim = { \"국어\" : 90, \"'수학\" : 80, \"과학\" : 82, \"영어\" : 72 }\n",
        "result =\n",
        "print(result)\n",
        "```"
      ]
    },
    {
      "cell_type": "markdown",
      "metadata": {
        "id": "SZwlPaG_AQ9m"
      },
      "source": [
        "<span style=\"color:red\">답변</span>"
      ]
    },
    {
      "cell_type": "code",
      "source": [
        "# 평균 점수 구하기\n",
        "ozkim = { \"국어\" : 90, \"'수학\" : 80, \"과학\" : 82, \"영어\" : 72 } # dict\n",
        "result = sum(ozkim.values()) / len(ozkim) # sum=값을 더하기, len=리스트갯수\n",
        "print(result)"
      ],
      "metadata": {
        "colab": {
          "base_uri": "https://localhost:8080/"
        },
        "id": "A3AIdLnoCHf6",
        "outputId": "2cac419e-067b-4499-bdf1-90dfad6a5ce3"
      },
      "execution_count": 2,
      "outputs": [
        {
          "output_type": "stream",
          "name": "stdout",
          "text": [
            "81.0\n"
          ]
        }
      ]
    },
    {
      "cell_type": "markdown",
      "metadata": {
        "id": "sa_RmpaKAQ9m"
      },
      "source": [
        "sum(ozkim.values()) / len(ozkim)"
      ]
    },
    {
      "cell_type": "markdown",
      "metadata": {
        "id": "3-qxpae4AQ9m"
      },
      "source": [
        "----"
      ]
    },
    {
      "cell_type": "markdown",
      "metadata": {
        "id": "QvAAcWjuAQ9n"
      },
      "source": [
        "<span style=\"font-size:80%\">[문제4]<br><br></span>\n",
        "상자 딕셔너리에 아래 데이터를 추가하는 코드를 작성해 주세요\n",
        "\n",
        "```\n",
        "상자 = {\"아디다스\": [\"신발\", \"2개\"],\n",
        "            \"나이키\": [\"모자\", \"5개\"],\n",
        "            \"뉴발란스\": [\"가방\", \"1개\"]}\n",
        "````\n",
        "\n",
        "입력할 데이터 : 칼하트 / 후드티 / 2벌"
      ]
    },
    {
      "cell_type": "markdown",
      "metadata": {
        "id": "g4ycqEp5AQ9n"
      },
      "source": [
        "<span style=\"color:red\">답변</span>"
      ]
    },
    {
      "cell_type": "code",
      "source": [
        "# 처음 상자 딕셔너리\n",
        "상자 = {\"아디다스\": [\"신발\", \"2개\"], \"나이키\": [\"모자\", \"5개\"], \"뉴발란스\": [\"가방\", \"1개\"]}\n",
        "\n",
        "# 추가 상자 딕셔너리\n",
        "상자[\"칼하트\"] = [\"후드티\", \"2벌\"]\n",
        "\n",
        "print(상자)"
      ],
      "metadata": {
        "colab": {
          "base_uri": "https://localhost:8080/"
        },
        "id": "tzQCu23xDESG",
        "outputId": "e33d7f37-6ad3-4918-87be-e7b4f63ae6d9"
      },
      "execution_count": 5,
      "outputs": [
        {
          "output_type": "stream",
          "name": "stdout",
          "text": [
            "{'아디다스': ['신발', '2개'], '나이키': ['모자', '5개'], '뉴발란스': ['가방', '1개'], '칼하트': ['후드티', '2벌']}\n"
          ]
        }
      ]
    },
    {
      "cell_type": "markdown",
      "metadata": {
        "id": "hB7zNVihAQ9n"
      },
      "source": [
        "상자[\"칼하트\"] = [\"후드티\", \"2벌\"]"
      ]
    },
    {
      "cell_type": "markdown",
      "metadata": {
        "id": "RJX9_68cAQ9n"
      },
      "source": [
        "----"
      ]
    },
    {
      "cell_type": "markdown",
      "metadata": {
        "id": "EHALJ-EjAQ9n"
      },
      "source": [
        "<span style=\"font-size:80%\">[문제5]<br><br></span>\n",
        "아래 keys 변수와 vals 변수에 들어있는 값을 이용해 agency_dict라는 딕셔너리를 만드는 코드를 작성해주세요\n",
        "\n",
        "```\n",
        "keys = [\"뉴진스\", \"아이브\", \"에스파\"]\n",
        "vals = [\"하이브\" , \"스타쉽\", \"SM\"]\n",
        "```"
      ]
    },
    {
      "cell_type": "markdown",
      "metadata": {
        "id": "nkUsA-h0AQ9n"
      },
      "source": [
        "<span style=\"color:red\">답변</span>"
      ]
    },
    {
      "cell_type": "code",
      "source": [
        "# 기본 값\n",
        "keys = [\"뉴진스\", \"아이브\", \"에스파\"]\n",
        "vals = [\"하이브\" , \"스타쉽\", \"SM\"]\n",
        "\n",
        "# 딕셔너리 생성\n",
        "agency_dict = dict(zip(keys, vals))\n",
        "\n",
        "print(agency_dict)"
      ],
      "metadata": {
        "colab": {
          "base_uri": "https://localhost:8080/"
        },
        "id": "aMPH6CXzDv6Y",
        "outputId": "ff4efdf8-a28e-414e-8740-a89dbcae95cf"
      },
      "execution_count": 6,
      "outputs": [
        {
          "output_type": "stream",
          "name": "stdout",
          "text": [
            "{'뉴진스': '하이브', '아이브': '스타쉽', '에스파': 'SM'}\n"
          ]
        }
      ]
    },
    {
      "cell_type": "markdown",
      "metadata": {
        "id": "j9F2d3KqAQ9n"
      },
      "source": [
        "agency_dict = dict(zip(keys, vals))\n"
      ]
    }
  ],
  "metadata": {
    "language_info": {
      "name": "python"
    },
    "colab": {
      "provenance": []
    },
    "kernelspec": {
      "name": "python3",
      "display_name": "Python 3"
    }
  },
  "nbformat": 4,
  "nbformat_minor": 0
}