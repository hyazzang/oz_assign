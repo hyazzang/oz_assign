{
  "cells": [
    {
      "cell_type": "markdown",
      "metadata": {
        "id": "HNJSSFHWCs7H"
      },
      "source": [
        "두 문자열을 받아서 긴 문자열을 반환하는 함수 longer_string을 작성하세요. 만약 두 문자열의 길이가 같다면, 첫 번째 문자열을 반환하세요."
      ]
    },
    {
      "cell_type": "code",
      "source": [
        "def longer_string(str1, str2): # 함수 정의, 매개변수\n",
        "    if len(str1) >= len(str2): # str1의 길이가 str2의 길이보다 크거나 같을때\n",
        "        return str1 # str1을 반환\n",
        "    else:  #아니라면\n",
        "        return str2 # str2를 반환\n",
        "\n",
        "print(longer_string(\"hello\", \"worlds\"))"
      ],
      "metadata": {
        "colab": {
          "base_uri": "https://localhost:8080/"
        },
        "id": "YVBU2EQ-CvZK",
        "outputId": "257f788e-1d71-4b33-fe08-2a650a693f6b"
      },
      "execution_count": 2,
      "outputs": [
        {
          "output_type": "stream",
          "name": "stdout",
          "text": [
            "worlds\n"
          ]
        }
      ]
    }
  ],
  "metadata": {
    "language_info": {
      "name": "python"
    },
    "colab": {
      "provenance": []
    },
    "kernelspec": {
      "name": "python3",
      "display_name": "Python 3"
    }
  },
  "nbformat": 4,
  "nbformat_minor": 0
}