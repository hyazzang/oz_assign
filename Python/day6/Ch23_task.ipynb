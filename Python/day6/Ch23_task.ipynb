{
  "cells": [
    {
      "cell_type": "markdown",
      "metadata": {
        "id": "JylivPmkxzZm"
      },
      "source": [
        "사용자의 이름을 출력하는 함수 print_name을 작성하세요. 만약 이름이 주어지지 않았다면, 기본값으로 \"익명\"을 사용하세요."
      ]
    },
    {
      "cell_type": "code",
      "source": [
        "# print_name 이라는 함수를 정의\n",
        "def print_name(name=\"익명\"): # name 매개변수의 기본값을 \"익명\"으로 설정\n",
        "    print(f'사용자의 이름: {name}') # name 변수의 값을 출력\n",
        "\n",
        "print_name()"
      ],
      "metadata": {
        "colab": {
          "base_uri": "https://localhost:8080/"
        },
        "id": "w-76TWcLx6eP",
        "outputId": "3d8bbe97-2dc9-429b-f738-065c1b172657"
      },
      "execution_count": 7,
      "outputs": [
        {
          "output_type": "stream",
          "name": "stdout",
          "text": [
            "사용자의 이름: 익명\n"
          ]
        }
      ]
    }
  ],
  "metadata": {
    "language_info": {
      "name": "python"
    },
    "colab": {
      "provenance": []
    },
    "kernelspec": {
      "name": "python3",
      "display_name": "Python 3"
    }
  },
  "nbformat": 4,
  "nbformat_minor": 0
}