{
  "cells": [
    {
      "cell_type": "markdown",
      "metadata": {
        "id": "dYtLs5Ij9FJU"
      },
      "source": [
        "주어진 숫자가 짝수인지 확인하는 함수 is_even을 작성하세요. 짝수라면 True를, 아니라면 False를 반환하세요. 함수 내에서 조기 리턴을 활용하세요."
      ]
    },
    {
      "cell_type": "code",
      "source": [
        "def is_even(nums):\n",
        "    if nums % 2 == 0: # nums 변수가 짝수라면\n",
        "        return True # True 반환\n",
        "    return False # 아니면 False 반환\n",
        "\n",
        "print(is_even(2))\n",
        "print(is_even(5))"
      ],
      "metadata": {
        "colab": {
          "base_uri": "https://localhost:8080/"
        },
        "id": "LVr6oEdO9OB2",
        "outputId": "64a8669f-d841-4bef-b896-e0b84162553e"
      },
      "execution_count": 3,
      "outputs": [
        {
          "output_type": "stream",
          "name": "stdout",
          "text": [
            "True\n",
            "False\n"
          ]
        }
      ]
    },
    {
      "cell_type": "markdown",
      "metadata": {
        "id": "06pbeh3r9FJV"
      },
      "source": []
    }
  ],
  "metadata": {
    "language_info": {
      "name": "python"
    },
    "colab": {
      "provenance": []
    },
    "kernelspec": {
      "name": "python3",
      "display_name": "Python 3"
    }
  },
  "nbformat": 4,
  "nbformat_minor": 0
}