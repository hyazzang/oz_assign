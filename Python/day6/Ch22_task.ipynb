{
  "cells": [
    {
      "cell_type": "markdown",
      "metadata": {
        "id": "XbQjOCXgv8Bs"
      },
      "source": [
        "여러 숫자를 입력받아 그 합계를 반환하는 함수 sum_numbers를 작성하세요. 이 때, 가변 매개변수를 사용하세요."
      ]
    },
    {
      "cell_type": "code",
      "source": [
        "# 여러 숫자를 입력 받아\n",
        "# 합계를 반환하는 함수 sum_numbers\n",
        "# 가변 매개변수를 사용\n",
        "\n",
        "def sum_numbers(*nums): #sum_numbers 라는 함수를 정의 / *nums 라는 가변 매개변수를 사용\n",
        "    return sum(nums) # nums의 값들의 합계가 반환 됨\n",
        "\n",
        "sum_numbers(1, 2, 3, 4)"
      ],
      "metadata": {
        "colab": {
          "base_uri": "https://localhost:8080/"
        },
        "id": "omh8uZpjwGGM",
        "outputId": "dd2b76bd-2a2a-406e-8cb7-03be20de7ce6"
      },
      "execution_count": 2,
      "outputs": [
        {
          "output_type": "execute_result",
          "data": {
            "text/plain": [
              "10"
            ]
          },
          "metadata": {},
          "execution_count": 2
        }
      ]
    }
  ],
  "metadata": {
    "language_info": {
      "name": "python"
    },
    "colab": {
      "provenance": []
    },
    "kernelspec": {
      "name": "python3",
      "display_name": "Python 3"
    }
  },
  "nbformat": 4,
  "nbformat_minor": 0
}