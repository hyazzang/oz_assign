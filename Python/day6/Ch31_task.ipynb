{
  "cells": [
    {
      "cell_type": "markdown",
      "metadata": {
        "id": "YwO4-yzUBmFk"
      },
      "source": [
        "문자열 리스트를 받아, 각 문자열의 길이를 출력하는 함수 print_lengths를 작성하세요."
      ]
    },
    {
      "cell_type": "code",
      "source": [
        "def print_lengths(strings): # 함수 정의, 매개 변수\n",
        "    for string in strings: # for문 string 변수에 strings변수의 문자열 리스트를 저장\n",
        "        print(f'{string}: {len(string)}') # 문자열의 길이를 출력\n",
        "\n",
        "print_lengths([\"오즈코딩스쿨\", \"부트캠프\"])"
      ],
      "metadata": {
        "colab": {
          "base_uri": "https://localhost:8080/"
        },
        "id": "LraYkvhNBrNy",
        "outputId": "83bd7364-3406-4070-ff4a-0bc39e7286cd"
      },
      "execution_count": 4,
      "outputs": [
        {
          "output_type": "stream",
          "name": "stdout",
          "text": [
            "오즈코딩스쿨: 6\n",
            "부트캠프: 4\n"
          ]
        }
      ]
    }
  ],
  "metadata": {
    "language_info": {
      "name": "python"
    },
    "colab": {
      "provenance": []
    },
    "kernelspec": {
      "name": "python3",
      "display_name": "Python 3"
    }
  },
  "nbformat": 4,
  "nbformat_minor": 0
}