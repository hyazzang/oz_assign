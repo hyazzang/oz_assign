{
  "cells": [
    {
      "cell_type": "markdown",
      "metadata": {
        "id": "sqb9VluZ99Ga"
      },
      "source": [
        "팩토리얼을 계산하는 재귀 함수 factorial을 작성하세요."
      ]
    },
    {
      "cell_type": "code",
      "source": [
        "# 팩토리얼(0!): 1부터 n까지의 모든 자연수를 곱한 값\n",
        "\n",
        "def factorial(n):\n",
        "    if n == 0 : # 변수 n이 0일때\n",
        "        return 1 # 참이라면 1을 반환 / 기본 조건\n",
        "    return n * factorial(n-1) # 참이 아니라면 팩토리얼 정의대로 계산 n! = n * (n-1)! / 재귀호출\n",
        "\n",
        "print(factorial(5))\n"
      ],
      "metadata": {
        "colab": {
          "base_uri": "https://localhost:8080/"
        },
        "id": "YTCfvbD--FEj",
        "outputId": "17117a68-d893-4d59-9eb1-7532c3514793"
      },
      "execution_count": 2,
      "outputs": [
        {
          "output_type": "stream",
          "name": "stdout",
          "text": [
            "120\n"
          ]
        }
      ]
    }
  ],
  "metadata": {
    "language_info": {
      "name": "python"
    },
    "colab": {
      "provenance": []
    },
    "kernelspec": {
      "name": "python3",
      "display_name": "Python 3"
    }
  },
  "nbformat": 4,
  "nbformat_minor": 0
}