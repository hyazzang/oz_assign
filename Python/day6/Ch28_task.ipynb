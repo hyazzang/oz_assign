{
  "cells": [
    {
      "cell_type": "markdown",
      "metadata": {
        "id": "iJZllsve5qgr"
      },
      "source": [
        "사용자로부터 3개의 숫자를 입력받아, 이를 튜플로 만든 후 최소값과 최대값을 출력하는 함수 min_max를 작성하세요."
      ]
    },
    {
      "cell_type": "code",
      "source": [
        "# min_max 함수를 정의\n",
        "def min_max():\n",
        "    nums = tuple(map(int, (input(\"3개의 숫자 입력: \").split())))\n",
        "    # nums 라는 변수\n",
        "    # input에 숫자를 입력 받고 문자열을 공백 기준으로 나눠 리스트(split)\n",
        "    # 리스트 문자열을 int로 정수로 변환하면 map에 반환\n",
        "    # map을 tuple로 변환\n",
        "    print(f'최소값: {min(nums)}, 최대값: {max(nums)}') # min, max 는 파이썬 내장 함수\n",
        "\n",
        "min_max()"
      ],
      "metadata": {
        "colab": {
          "base_uri": "https://localhost:8080/"
        },
        "id": "eS4ySuCO5z63",
        "outputId": "af3048be-6d72-4872-abe0-cab2ea01b152"
      },
      "execution_count": 3,
      "outputs": [
        {
          "output_type": "stream",
          "name": "stdout",
          "text": [
            "3개의 숫자 입력: 3 5 6\n",
            "최소값: 3, 최대값: 6\n"
          ]
        }
      ]
    }
  ],
  "metadata": {
    "language_info": {
      "name": "python"
    },
    "colab": {
      "provenance": []
    },
    "kernelspec": {
      "name": "python3",
      "display_name": "Python 3"
    }
  },
  "nbformat": 4,
  "nbformat_minor": 0
}