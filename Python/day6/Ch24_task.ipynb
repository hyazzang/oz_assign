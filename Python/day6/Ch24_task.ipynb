{
  "cells": [
    {
      "cell_type": "markdown",
      "metadata": {
        "id": "sGRsJM2My93B"
      },
      "source": [
        "사용자의 이름, 나이, 성별을 출력하는 함수 print_info를 작성하세요. 이 때, 모든 매개변수는 키워드 매개변수로만 받도록 하세요."
      ]
    },
    {
      "cell_type": "code",
      "source": [
        "# print_info 함수를 정의\n",
        "def print_info(**kwargs): # 키워드 매개 변수를 딕셔너리 형태로 받음\n",
        "    for key, value in kwargs.items(): # for문의 key변수와 value 변수에 키와 값을 반환\n",
        "        print(f'{key}: {value}')\n",
        "\n",
        "print_info(name=\"김오즈\", age=20, gender=\"여성\")"
      ],
      "metadata": {
        "colab": {
          "base_uri": "https://localhost:8080/"
        },
        "id": "qr1TPCH4y-1H",
        "outputId": "7cb5f45f-869f-4776-9250-9ac39106952b"
      },
      "execution_count": 3,
      "outputs": [
        {
          "output_type": "stream",
          "name": "stdout",
          "text": [
            "name: 김오즈\n",
            "age: 20\n",
            "gender: 여성\n"
          ]
        }
      ]
    },
    {
      "cell_type": "markdown",
      "metadata": {
        "id": "503_VO_wy93D"
      },
      "source": []
    }
  ],
  "metadata": {
    "language_info": {
      "name": "python"
    },
    "colab": {
      "provenance": []
    },
    "kernelspec": {
      "name": "python3",
      "display_name": "Python 3"
    }
  },
  "nbformat": 4,
  "nbformat_minor": 0
}