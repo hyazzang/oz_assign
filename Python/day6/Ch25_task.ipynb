{
  "cells": [
    {
      "cell_type": "markdown",
      "metadata": {
        "id": "_lUyssQD02gk"
      },
      "source": [
        "두 개의 정수를 받아 합을 반환하는 함수 add를 작성하세요. 매개변수와 반환값에 타입 어노테이션을 추가하세요."
      ]
    },
    {
      "cell_type": "code",
      "source": [
        "# add 함수를 정의\n",
        "def add(a: int, b: int) -> int:\n",
        "    # a: int , b: int 는 매개변수의 타입 어노테이션\n",
        "    # -> int 함수가 반환하는 값이 정수라는 반환값 타입 어노테이션\n",
        "    return a + b # a 와 b의 합을 반환\n",
        "\n",
        "print(add(3,5))"
      ],
      "metadata": {
        "colab": {
          "base_uri": "https://localhost:8080/"
        },
        "id": "77WNEFOP0-p0",
        "outputId": "ef6af3ae-7125-45e3-bdc4-f6d4982d7f4d"
      },
      "execution_count": 1,
      "outputs": [
        {
          "output_type": "stream",
          "name": "stdout",
          "text": [
            "8\n"
          ]
        }
      ]
    }
  ],
  "metadata": {
    "language_info": {
      "name": "python"
    },
    "colab": {
      "provenance": []
    },
    "kernelspec": {
      "name": "python3",
      "display_name": "Python 3"
    }
  },
  "nbformat": 4,
  "nbformat_minor": 0
}