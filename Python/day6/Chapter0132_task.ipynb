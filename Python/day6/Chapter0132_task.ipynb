{
  "cells": [
    {
      "cell_type": "markdown",
      "metadata": {
        "id": "rQR5frlgJ2FI"
      },
      "source": [
        "### 도전 과제입니다!!!\n",
        "\n",
        "난이도가 다소 높은 문제이기 때문에 도전하지 않으셔도 됩니다.\n",
        "\n",
        "실력을 높이시고 싶은 수강생 여러분은 __무조건 도전__ 해 주세요!!\n",
        "\n",
        "![image.png](attachment:image.png)"
      ]
    },
    {
      "cell_type": "markdown",
      "metadata": {
        "id": "cTGRDKM_J2FK"
      },
      "source": [
        "#### 프로젝트: 간단한 주소록 관리 시스템\n",
        "\n",
        "[목표]\n",
        "사용자로부터 연락처 정보를 입력받아 관리하고, 원하는 조건에 따라 연락처를 검색할 수 있는 간단한 주소록 관리 시스템을 만듭니다.\n",
        "\n",
        "[기능]\n",
        "- 연락처 추가: 사용자의 이름, 전화번호, 이메일 주소를 입력받아 주소록에 추가합니다.\n",
        "- 연락처 목록 보기: 저장된 모든 연락처의 정보를 화면에 출력합니다.\n",
        "- 연락처 검색: 사용자로부터 검색 키워드를 입력받아, 해당 키워드가 이름에 포함된 연락처 정보를 화면에 출력합니다.\n",
        "- 연락처 삭제: 사용자로부터 이름을 입력받아, 해당하는 연락처 정보를 주소록에서 삭제합니다.\n",
        "- 연락처 정렬: 연락처 목록을 이름 순서로 정렬하여 출력합니다.\n",
        "- 제너레이터를 이용한 연락처 순회: 주소록에 저장된 연락처를 순회하는 제너레이터 함수를 구현합니다.\n",
        "\n",
        "[구현 상세]\n",
        "- 주소록 데이터는 리스트 내에 딕셔너리 형태로 저장됩니다.\n",
        "- 각 기능은 별도의 함수로 구현합니다.\n",
        "- 함수의 기본 활용, 기본 매개변수, 람다, 제너레이터 등을 적절히 활용해야 합니다."
      ]
    },
    {
      "cell_type": "code",
      "execution_count": null,
      "metadata": {
        "id": "L4xeH8NpJ2FL"
      },
      "outputs": [],
      "source": [
        "#가이드 코드 입니다.\n",
        "# 주소록 데이터 저장을 위한 리스트\n",
        "address_book = []\n",
        "\n",
        "# 연락처 추가 함수\n",
        "def add_contact(name: str, phone: str, email: str = '') -> None:\n",
        "\n",
        "# 연락처 목록 보기 함수\n",
        "def view_contacts() -> None:\n",
        "\n",
        "\n",
        "# 연락처 검색 함수\n",
        "def search_contacts(keyword: str) -> None:\n",
        "\n",
        "\n",
        "# 연락처 삭제 함수\n",
        "def delete_contact(name: str) -> None:\n",
        "\n",
        "\n",
        "# 연락처 정렬 함수\n",
        "def sort_contacts() -> None:\n",
        "\n",
        "\n",
        "# 제너레이터를 이용한 연락처 순회\n",
        "def contact_generator():\n",
        "    for contact in address_book:\n",
        "        yield contact\n",
        "\n",
        "# 메인 함수\n",
        "def main():\n",
        "\n",
        "if __name__ == \"__main__\":\n",
        "    main()"
      ]
    },
    {
      "cell_type": "markdown",
      "metadata": {
        "id": "OxlwrVSgJ2FM"
      },
      "source": [
        "__[과제 1: 연락처 추가 함수 add_contact]__\n",
        "\n",
        "목표: 사용자의 이름, 전화번호, 이메일 주소를 입력받아 주소록에 추가합니다.\n",
        "\n",
        "설명:\n",
        "- name: 이름을 나타내는 문자열입니다.\n",
        "- phone: 전화번호를 나타내는 문자열입니다.\n",
        "- email: 이메일 주소를 나타내는 문자열입니다. 기본값으로 빈 문자열을 사용합니다.\n",
        "- 연락처 정보를 딕셔너리 형태로 생성하여 address_book 리스트에 추가합니다.\n",
        "- 추가된 연락처 정보를 출력합니다."
      ]
    },
    {
      "cell_type": "code",
      "execution_count": 6,
      "metadata": {
        "id": "73qy61JMJ2FM"
      },
      "outputs": [],
      "source": [
        "# 주소록 데이터 저장을 위한 리스트\n",
        "address_book = []\n",
        "\n",
        "# add_contact(연락처 추가) 함수를 정의\n",
        "def add_contact(name: str, phone: str, email: str = '') -> None:\n",
        "    # 매개변수에 타입 어노테이션으로 문자열 타입을 지정\n",
        "    # ='' 기본값을 빈 문자열로 설정\n",
        "    # -> 반환값 타입 힌트 / 아무것도 반환하지 않는다.\n",
        "\n",
        "    # contact(연락처) 딕셔너리 생성\n",
        "    contact = {\n",
        "        \"name\": name,\n",
        "        \"phone\": phone,\n",
        "        \"email\": email\n",
        "    }\n",
        "\n",
        "    address_book.append(contact) # 새로운 연락처를 주소록 변수(리스트)에 추가\n",
        "    print(f'연락처가 추가 완료! {contact}') # 새로 추가한 연락처를 출력하여 확인"
      ]
    },
    {
      "cell_type": "markdown",
      "metadata": {
        "id": "T6IybR1DJ2FM"
      },
      "source": [
        "__[과제 2: 연락처 목록 보기 함수 view_contacts]__\n",
        "\n",
        "목표: 저장된 모든 연락처의 정보를 화면에 출력합니다.\n",
        "\n",
        "설명:\n",
        "- address_book 리스트를 순회하며 각 연락처 정보를 출력합니다.\n",
        "- 주소록이 비어있을 경우 이를 알리는 메시지를 출력합니다."
      ]
    },
    {
      "cell_type": "code",
      "execution_count": 9,
      "metadata": {
        "id": "TdAAqpk9J2FM"
      },
      "outputs": [],
      "source": [
        "# view_contacts(연락처보기) 함수 정의\n",
        "def view_contacts() -> None:\n",
        "# 아무 값도 반환하지 않는다. -> None 타입 어노테이션 사용\n",
        "    if not address_book: # 주소록이 비어 있는 경우\n",
        "        print(\"주소록이 비어있습니다.\") # 알림 메세지 출력\n",
        "        return # 반환\n",
        "\n",
        "    # 주소록 출력\n",
        "    print(\"====== 연락처 ======\")\n",
        "    for contact in address_book: # 주소록 리스트의 연락처(contact)를 순회\n",
        "        print(f'이름: {contact[\"name\"]}, 전화번호: {contact[\"phone\"]}, 이메일: {contact[\"email\"]}')\n",
        "    print(\"===================\")"
      ]
    },
    {
      "cell_type": "markdown",
      "metadata": {
        "id": "OwToIc_bJ2FM"
      },
      "source": [
        "__[과제 3: 연락처 검색 함수 search_contacts]__\n",
        "\n",
        "목표: 사용자로부터 검색 키워드를 입력받아, 해당 키워드가 이름에 포함된 연락처 정보를 화면에 출력합니다.\n",
        "\n",
        "설명:\n",
        "- keyword: 검색 키워드를 나타내는 문자열입니다.\n",
        "- address_book 리스트를 순회하며, 이름에 키워드가 포함된 연락처를 찾아 출력합니다.\n",
        "- 검색 결과가 없을 경우 이를 알리는 메시지를 출력합니다."
      ]
    },
    {
      "cell_type": "code",
      "execution_count": 10,
      "metadata": {
        "id": "_BPkQ-qgJ2FN"
      },
      "outputs": [],
      "source": [
        "# serch_contacts(연락처 검색)라는 함수를 정의\n",
        "def search_contacts(keyword: str) -> None:\n",
        "    # 매개변수에 타입 어노테이션으로 문자열 타입을 지정\n",
        "\n",
        "    # 검색 결과 리스트 설정\n",
        "    serch_list = [contact for contact in address_book # 주소록 리스트에서\n",
        "               if keyword in contact['name']] # 연락처 이름에 키워드가 포함된\n",
        "               # 표현식 for 변수 in 반복 가능 객체 if 조건\n",
        "               # 조건을 만족한 contact 를 그대로 새로운 리스트(serch_list)에 추가\n",
        "\n",
        "\n",
        "    # 검색 결과 확인\n",
        "    if not serch_list: # 검색 리스트에 없다면\n",
        "        print(f\"'{keyword}'가 포함된 연락처가 없습니다.\") #출력\n",
        "        return # 반환\n",
        "\n",
        "    # 검색 결과 출력\n",
        "    print(f\"====== {keyword} 검색 결과 ======\")\n",
        "    for contact in serch_list: # 새로운 리스트에 연락처에 있다면\n",
        "        print(f'이름: {contact[\"name\"]}, 전화번호: {contact[\"phone\"]}, 이메일: {contact[\"email\"]}')\n",
        "    print(\"===================\")"
      ]
    },
    {
      "cell_type": "markdown",
      "metadata": {
        "id": "Aei61YioJ2FN"
      },
      "source": [
        "__[과제 4: 연락처 삭제 함수 delete_contact]__\n",
        "\n",
        "목표: 사용자로부터 이름을 입력받아, 해당하는 연락처 정보를 주소록에서 삭제합니다.\n",
        "\n",
        "설명:\n",
        "- name: 삭제할 연락처의 이름을 나타내는 문자열입니다.\n",
        "- address_book 리스트에서 해당 이름을 가진 연락처를 제거합니다.\n",
        "- 이름은 대소문자 구분 없이 처리됩니다.\n",
        "- 삭제된 후의 주소록 상태를 출력합니다."
      ]
    },
    {
      "cell_type": "code",
      "execution_count": 11,
      "metadata": {
        "id": "SKCZ09e8J2FN"
      },
      "outputs": [],
      "source": [
        "# delete_contact(연락처 삭제) 함수 정의\n",
        "def delete_contact(name: str) -> None:\n",
        "    # 아무 값도 반환하지 않는다. -> None 타입 어노테이션 사용\n",
        "\n",
        "    # 삭제\n",
        "    for contact in address_book:\n",
        "        if contact['name'] ==  name: # 연락처 이름이 같다면\n",
        "            address_book.remove(contact) # address_book 리스트에서 삭제\n",
        "            print(f'{name} 연락처 삭제 완료')\n",
        "            return # 반환\n",
        "    # 삭제 대상이 없음\n",
        "    print(f'{name} 연락처가 없습니다.')"
      ]
    },
    {
      "cell_type": "markdown",
      "metadata": {
        "id": "LZ87_bgAJ2FN"
      },
      "source": [
        "__[과제 5: 연락처 정렬 함수 sort_contacts]__\n",
        "\n",
        "목표: 연락처 목록을 이름 순서로 정렬하여 출력합니다.\n",
        "\n",
        "설명:\n",
        "- address_book 리스트를 이름 순서로 정렬합니다.\n",
        "- 람다 함수를 사용하여 정렬 키를 지정합니다.\n",
        "- 정렬 후 정렬되었음을 알리는 메시지를 출력합니다."
      ]
    },
    {
      "cell_type": "code",
      "execution_count": 13,
      "metadata": {
        "id": "EsCvoT7HJ2FN"
      },
      "outputs": [],
      "source": [
        "# sort_contacts(연락처 정렬) 함수 정의\n",
        "def sort_contacts() -> None:\n",
        "    # 아무 값도 반환하지 않는다. -> None 타입 어노테이션 사용\n",
        "\n",
        "    if not address_book: # 주소록이 비어 있는 경우\n",
        "        print(\"주소록이 비어있습니다.\") # 알림 메세지 출력\n",
        "        return # 반환\n",
        "\n",
        "    # 이름 순서 정렬 (람다 함수 사용)\n",
        "    address_book.sort(key=lambda contact: contact['name']) # 이름순으로 리스트 정렬\n",
        "    print(\"주소록 정렬 완료!\")\n",
        "\n",
        "    # 연락처 출력\n",
        "    print(\"====== 정렬된 연락처 ======\")\n",
        "    for contact in address_book: # address_book 리스트를 순회, 연락처를 가져옴\n",
        "        print(f'이름: {contact[\"name\"]}, 전화번호: {contact[\"phone\"]}, 이메일: {contact[\"email\"]}')\n",
        "    print(\"===================\")"
      ]
    },
    {
      "cell_type": "markdown",
      "metadata": {
        "id": "zlhYj7xgJ2FN"
      },
      "source": [
        "__[과제 6: 제너레이터를 이용한 연락처 순회 함수 contact_generator]__\n",
        "\n",
        "목표: 주소록에 저장된 연락처를 순회하는 제너레이터 함수를 구현합니다.\n",
        "\n",
        "설명:\n",
        "- address_book 리스트를 순회하며 각 연락처를 제너레이터로 반환합니다.\n",
        "- 제너레이터는 메모리를 효율적으로 사용하며, 순회 시마다 하나의 연락처를 반환합니다."
      ]
    },
    {
      "cell_type": "code",
      "execution_count": 14,
      "metadata": {
        "id": "8VcLt9ovJ2FN"
      },
      "outputs": [],
      "source": [
        "# contact_generator(연락처 순회) 함수 정의\n",
        "def contact_generator():\n",
        "    for contact in address_book: # address_book 리스트를 순회, 연락처를 가져옴\n",
        "        yield contact  # yield(제너레이터 함수: 값 반환시 사용)"
      ]
    },
    {
      "cell_type": "markdown",
      "metadata": {
        "id": "J-KhffrKJ2FN"
      },
      "source": [
        "__[과제 7: 메인 함수 main]__\n",
        "\n",
        "목표: 프로그램의 주요 로직을 실행합니다.\n",
        "\n",
        "설명:\n",
        "- 사용자에게 모드를 선택하도록 요청합니다.\n",
        "- \"추가\" 모드에서는 연락처를 추가하고, \"보기\" 모드에서는 연락처 목록을 출력하며, \"검색\" 모드에서는 연락처를 검색하고, \"삭제\" 모드에서는 연락처를 삭제하고, \"정렬\" 모드에서는 연락처를 정렬합니다.\n",
        "- 프로그램이 종료될 때까지 사용자 입력을 계속 받아들입니다."
      ]
    },
    {
      "cell_type": "code",
      "execution_count": 15,
      "metadata": {
        "colab": {
          "base_uri": "https://localhost:8080/"
        },
        "id": "EVAvLifOJ2FO",
        "outputId": "34dc9d05-e651-4a34-d39e-6069013182aa"
      },
      "outputs": [
        {
          "output_type": "stream",
          "name": "stdout",
          "text": [
            "\n",
            "=== 주소록 관리 시스템 ===\n",
            "1. 연락처 추가\n",
            "2. 연락처 보기\n",
            "3. 연락처 검색\n",
            "4. 연락처 삭제\n",
            "5. 연락처 정렬\n",
            "6. 종료\n",
            "연락처에서 사용할 시스템을 선택하세요.(1~6): 1\n",
            "이름: 김오즈\n",
            "전화번호: 01012345678\n",
            "이메일: 김오즈@오즈.com\n",
            "연락처가 추가 완료! {'name': '김오즈', 'phone': '01012345678', 'email': '김오즈@오즈.com'}\n",
            "\n",
            "=== 주소록 관리 시스템 ===\n",
            "1. 연락처 추가\n",
            "2. 연락처 보기\n",
            "3. 연락처 검색\n",
            "4. 연락처 삭제\n",
            "5. 연락처 정렬\n",
            "6. 종료\n",
            "연락처에서 사용할 시스템을 선택하세요.(1~6): 김나냐\n",
            "잘못된 선택입니다. 1에서 6 사이의 숫자를 입력하세요.\n",
            "\n",
            "=== 주소록 관리 시스템 ===\n",
            "1. 연락처 추가\n",
            "2. 연락처 보기\n",
            "3. 연락처 검색\n",
            "4. 연락처 삭제\n",
            "5. 연락처 정렬\n",
            "6. 종료\n",
            "연락처에서 사용할 시스템을 선택하세요.(1~6): 1\n",
            "이름: 걍냐냐\n",
            "전화번호: 01012341234\n",
            "이메일: 이메일@이메일.com\n",
            "연락처가 추가 완료! {'name': '걍냐냐', 'phone': '01012341234', 'email': '이메일@이메일.com'}\n",
            "\n",
            "=== 주소록 관리 시스템 ===\n",
            "1. 연락처 추가\n",
            "2. 연락처 보기\n",
            "3. 연락처 검색\n",
            "4. 연락처 삭제\n",
            "5. 연락처 정렬\n",
            "6. 종료\n",
            "연락처에서 사용할 시스템을 선택하세요.(1~6): 5\n",
            "주소록 정렬 완료!\n",
            "====== 정렬된 연락처 ======\n",
            "이름: 걍냐냐, 전화번호: 01012341234, 이메일: 이메일@이메일.com\n",
            "이름: 김오즈, 전화번호: 01012345678, 이메일: 김오즈@오즈.com\n",
            "===================\n",
            "\n",
            "=== 주소록 관리 시스템 ===\n",
            "1. 연락처 추가\n",
            "2. 연락처 보기\n",
            "3. 연락처 검색\n",
            "4. 연락처 삭제\n",
            "5. 연락처 정렬\n",
            "6. 종료\n",
            "연락처에서 사용할 시스템을 선택하세요.(1~6): 4\n",
            "삭제할 연락처 이름: 김냐냐\n",
            "김냐냐 연락처가 없습니다.\n",
            "\n",
            "=== 주소록 관리 시스템 ===\n",
            "1. 연락처 추가\n",
            "2. 연락처 보기\n",
            "3. 연락처 검색\n",
            "4. 연락처 삭제\n",
            "5. 연락처 정렬\n",
            "6. 종료\n",
            "연락처에서 사용할 시스템을 선택하세요.(1~6): 4\n",
            "삭제할 연락처 이름: 강나냐\n",
            "강나냐 연락처가 없습니다.\n",
            "\n",
            "=== 주소록 관리 시스템 ===\n",
            "1. 연락처 추가\n",
            "2. 연락처 보기\n",
            "3. 연락처 검색\n",
            "4. 연락처 삭제\n",
            "5. 연락처 정렬\n",
            "6. 종료\n",
            "연락처에서 사용할 시스템을 선택하세요.(1~6): 3\n",
            "검색할 이름 또는 키워드: 강\n",
            "'강'가 포함된 연락처가 없습니다.\n",
            "\n",
            "=== 주소록 관리 시스템 ===\n",
            "1. 연락처 추가\n",
            "2. 연락처 보기\n",
            "3. 연락처 검색\n",
            "4. 연락처 삭제\n",
            "5. 연락처 정렬\n",
            "6. 종료\n",
            "연락처에서 사용할 시스템을 선택하세요.(1~6): 3\n",
            "검색할 이름 또는 키워드: 걍\n",
            "====== 걍 검색 결과 ======\n",
            "이름: 걍냐냐, 전화번호: 01012341234, 이메일: 이메일@이메일.com\n",
            "===================\n",
            "\n",
            "=== 주소록 관리 시스템 ===\n",
            "1. 연락처 추가\n",
            "2. 연락처 보기\n",
            "3. 연락처 검색\n",
            "4. 연락처 삭제\n",
            "5. 연락처 정렬\n",
            "6. 종료\n",
            "연락처에서 사용할 시스템을 선택하세요.(1~6): 6\n",
            "주소록 관리 시스템을 종료합니다.\n"
          ]
        }
      ],
      "source": [
        "# main 함수를 정의\n",
        "def main():\n",
        "    while True:\n",
        "        print(\"\\n=== 주소록 관리 시스템 ===\")\n",
        "        print(\"1. 연락처 추가\")\n",
        "        print(\"2. 연락처 보기\")\n",
        "        print(\"3. 연락처 검색\")\n",
        "        print(\"4. 연락처 삭제\")\n",
        "        print(\"5. 연락처 정렬\")\n",
        "        print(\"6. 종료\")\n",
        "\n",
        "        # choice 변수에 입력(input)을 받는다\n",
        "        choice = input(\"연락처에서 사용할 시스템을 선택하세요.(1~6): \")\n",
        "\n",
        "        if choice == \"1\":  # 추가\n",
        "            name = input(\"이름: \")\n",
        "            phone = input(\"전화번호: \")\n",
        "            email = input(\"이메일: \")\n",
        "            add_contact(name, phone, email)\n",
        "\n",
        "        elif choice == \"2\":  # 보기\n",
        "            view_contacts()\n",
        "\n",
        "        elif choice == \"3\":  # 검색\n",
        "            keyword = input(\"검색할 이름 또는 키워드: \")\n",
        "            search_contacts(keyword)\n",
        "\n",
        "        elif choice == \"4\":  # 삭제\n",
        "            name = input(\"삭제할 연락처 이름: \")\n",
        "            delete_contact(name)\n",
        "\n",
        "        elif choice == \"5\":  # 정렬\n",
        "            sort_contacts()\n",
        "\n",
        "        elif choice == \"6\":  # 종료\n",
        "            print(\"주소록 관리 시스템을 종료합니다.\")\n",
        "            break # 종료\n",
        "\n",
        "        else: # 잘못 선택\n",
        "            print(\"잘못된 선택입니다. 1에서 6 사이의 숫자를 입력하세요.\")\n",
        "\n",
        "if __name__ == \"__main__\":\n",
        "    main()"
      ]
    }
  ],
  "metadata": {
    "language_info": {
      "name": "python"
    },
    "colab": {
      "provenance": []
    },
    "kernelspec": {
      "name": "python3",
      "display_name": "Python 3"
    }
  },
  "nbformat": 4,
  "nbformat_minor": 0
}