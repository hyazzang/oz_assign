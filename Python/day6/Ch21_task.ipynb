{
  "cells": [
    {
      "cell_type": "markdown",
      "metadata": {
        "id": "1ap0Q6DKta9D"
      },
      "source": [
        "사용자로부터 이름과 나이를 입력 받아, \"안녕하세요, [이름]님! 당신은 [나이]살입니다.\"라고 출력하는 함수 greet_user를 작성하세요."
      ]
    },
    {
      "cell_type": "code",
      "source": [
        "# 사용자로부터 이름과 나이를 입력받기 (input)\n",
        "# \"안녕하세요. [이름]님! 당신은 []살 입니다.\" 출력하기 (print)\n",
        "def greet_user(): # greet_user 라는 함수 정의\n",
        "    name = input(\"이름을 입력하세요: \") # name 이라는 매개변수(파라미터)에 이름을 입력받음\n",
        "    age = input(\"나이를 입력하세요: \") # age 이라는 매개변수(파라미터)에 나이를 입력받음\n",
        "    print(f\"안녕하세요, {name}님! 당신은 {age}살입니다.\") # 해당 함수를 실행하면 위의 매개변수를 입력 받고 print 문을 출력\n",
        "\n",
        "greet_user()"
      ],
      "metadata": {
        "colab": {
          "base_uri": "https://localhost:8080/"
        },
        "id": "X1jN04X4tuTo",
        "outputId": "5351e29a-7239-4fbd-88c0-d1c990039fba"
      },
      "execution_count": 3,
      "outputs": [
        {
          "output_type": "stream",
          "name": "stdout",
          "text": [
            "이름을 입력하세요: 김오즈\n",
            "나이를 입력하세요: 20\n",
            "안녕하세요, 김오즈님! 당신은 20살입니다.\n"
          ]
        }
      ]
    }
  ],
  "metadata": {
    "language_info": {
      "name": "python"
    },
    "colab": {
      "provenance": []
    },
    "kernelspec": {
      "name": "python3",
      "display_name": "Python 3"
    }
  },
  "nbformat": 4,
  "nbformat_minor": 0
}