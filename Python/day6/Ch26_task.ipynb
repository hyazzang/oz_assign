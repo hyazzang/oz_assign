{
  "cells": [
    {
      "cell_type": "markdown",
      "metadata": {
        "id": "iWlGwfut2oh-"
      },
      "source": [
        "0부터 시작하여 n까지의 숫자 중에서 홀수만 생성하는 제너레이터 odd_numbers를 작성하세요."
      ]
    },
    {
      "cell_type": "code",
      "source": [
        "# odd_numbers 라는 함수를 정의\n",
        "def odd_numbers(n): # 생성할 숫자의 끝값\n",
        "    for i in range(n): # for문의 i라는 변수에 0부터 n까지의 숫자를 반복\n",
        "        if i % 2 == 1: # 홀수 확인\n",
        "            yield i # yield 제너레이터 키워드: 값을 반환 후 함수 실행을 멈춤\n",
        "\n",
        "for num in odd_numbers(10):\n",
        "    print(num)"
      ],
      "metadata": {
        "colab": {
          "base_uri": "https://localhost:8080/"
        },
        "id": "ZQqAm9yp2w7N",
        "outputId": "8b4fd5c6-ff2b-4ddb-dfd0-b0896d302f0f"
      },
      "execution_count": 2,
      "outputs": [
        {
          "output_type": "stream",
          "name": "stdout",
          "text": [
            "1\n",
            "3\n",
            "5\n",
            "7\n",
            "9\n"
          ]
        }
      ]
    }
  ],
  "metadata": {
    "language_info": {
      "name": "python"
    },
    "colab": {
      "provenance": []
    },
    "kernelspec": {
      "name": "python3",
      "display_name": "Python 3"
    }
  },
  "nbformat": 4,
  "nbformat_minor": 0
}