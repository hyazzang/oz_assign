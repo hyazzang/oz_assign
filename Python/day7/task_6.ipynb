{
  "cells": [
    {
      "cell_type": "markdown",
      "metadata": {
        "id": "AORVIItrf9lS"
      },
      "source": [
        "requests 모듈을 사용하여, 웹 페이지의 HTML을 가져오는 간단한 웹 스크레이퍼를 작성하세요.\n",
        "\n",
        "'https://kream.co.kr/'에서<br>\n",
        "데이터를 가져와서 상태 코드와 HTML의 첫 100자를 출력하세요.<br>\n",
        "(실습 전 requests 모듈을 설치해야 함)"
      ]
    },
    {
      "cell_type": "code",
      "source": [
        "import requests # requests 모듈 불러오기\n",
        "\n",
        "def scrape(): # scrape 함수 정의\n",
        "    url = \"https://kream.co.kr/\" # url 설정\n",
        "\n",
        "    try:\n",
        "        data_come = requests.get(url) # url에 get 요청, 반환된 응답은 data_come 변수에 저장\n",
        "        print(f'상태코드: {data_come.status_code}')\n",
        "        # status_code 속성을 이용해 data_come에 접근 후 상태코드 출력\n",
        "\n",
        "        if data_come.status_code == 200: # 상태 코드가 200 이라면 (200이 성공)\n",
        "            print(f'HTML: {data_come.text[:100]}') # html 100자 출력\n",
        "        else:\n",
        "            print(\"실패\")\n",
        "    finally:\n",
        "        print(\"스크래핑 종료\")\n",
        "scrape()"
      ],
      "metadata": {
        "colab": {
          "base_uri": "https://localhost:8080/"
        },
        "id": "astNAqTDgIwk",
        "outputId": "b6d8bfca-8344-4f38-ed20-8252ffcc6e1d"
      },
      "execution_count": 10,
      "outputs": [
        {
          "output_type": "stream",
          "name": "stdout",
          "text": [
            "상태코드: 500\n",
            "실패\n",
            "스크래핑 종료\n"
          ]
        }
      ]
    },
    {
      "cell_type": "markdown",
      "metadata": {
        "id": "w_K5FXCBf9lU"
      },
      "source": []
    }
  ],
  "metadata": {
    "language_info": {
      "name": "python"
    },
    "colab": {
      "provenance": []
    },
    "kernelspec": {
      "name": "python3",
      "display_name": "Python 3"
    }
  },
  "nbformat": 4,
  "nbformat_minor": 0
}