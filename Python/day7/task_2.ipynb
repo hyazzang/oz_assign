{
  "cells": [
    {
      "cell_type": "markdown",
      "metadata": {
        "id": "KxTbZdvkI0Fd"
      },
      "source": [
        "파일을 읽어서 내용을 출력하는 프로그램을 작성하세요.\n",
        "\n",
        "- 파일이 존재하지 않을 때 발생하는 FileNotFoundError를 처리\n",
        "- 파일이 존재하지 않을 경우 \"파일을 찾을 수 없습니다.\"라는 메시지를 출력"
      ]
    },
    {
      "cell_type": "code",
      "source": [
        "# 함수 정의\n",
        "def read_file(file_name):\n",
        "    try: # 파일 읽기 시도\n",
        "        with open(file_name, 'r') as file: # 파일을 읽기모드(r)로 열고(open)\n",
        "            content = file.read() # read()로 파일 내용을 읽고 content 변수에 저장\n",
        "            print(\"파일내용: \", content)\n",
        "    except FileNotFoundError: # 파일 이름이 없을경우 예외처리\n",
        "        print(\"파일을 찾을 수 없습니다.\")"
      ],
      "metadata": {
        "id": "XH6Ck88oJEI5"
      },
      "execution_count": 1,
      "outputs": []
    }
  ],
  "metadata": {
    "language_info": {
      "name": "python"
    },
    "colab": {
      "provenance": []
    },
    "kernelspec": {
      "name": "python3",
      "display_name": "Python 3"
    }
  },
  "nbformat": 4,
  "nbformat_minor": 0
}