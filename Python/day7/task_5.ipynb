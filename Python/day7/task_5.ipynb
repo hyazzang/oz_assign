{
  "cells": [
    {
      "cell_type": "markdown",
      "metadata": {
        "id": "Tm0N3ypEdxBF"
      },
      "source": [
        "datetime 모듈을 사용하여 현재 날짜와 시간을 출력하는 프로그램을 작성하세요.\n",
        "\n",
        "또한, 사용자로부터 태어난 년도를 입력받아 현재 나이를 계산하여 출력하세요."
      ]
    },
    {
      "cell_type": "code",
      "source": [
        "# datetime 모듈에서 datetime 클래스를 가져옴\n",
        "from datetime import datetime\n",
        "\n",
        "# calculate_age 라는 함수를 정의\n",
        "def calculate_age():\n",
        "\n",
        "    # 현재 날짜와 시간 출력\n",
        "    now = datetime.now()\n",
        "    print(now)\n",
        "\n",
        "    # 현재 나이 계산\n",
        "    try:\n",
        "        birth_year = int(input(\"태어난 년도 (예: 1990): \")) # int로 숫자 변환 및 입력받기\n",
        "        age = now.year - birth_year # 현재 연도 - 입력된 연도\n",
        "        print(f\"현재 나이: {age} \") # 출력\n",
        "    except ValueError: # 숫자가 아닌게 입력되면\n",
        "        print(\"숫자로 입력하세요.\") 출력\n",
        "\n",
        "calculate_age()"
      ],
      "metadata": {
        "colab": {
          "base_uri": "https://localhost:8080/"
        },
        "id": "KckNXDEbd67-",
        "outputId": "fe9faa34-e899-4637-a771-1fed1cead85f"
      },
      "execution_count": 3,
      "outputs": [
        {
          "output_type": "stream",
          "name": "stdout",
          "text": [
            "2025-01-10 04:34:58.961220\n",
            "태어난 년도 (예: 1990): 1998\n",
            "현재 나이: 27 \n"
          ]
        }
      ]
    }
  ],
  "metadata": {
    "language_info": {
      "name": "python"
    },
    "colab": {
      "provenance": []
    },
    "kernelspec": {
      "name": "python3",
      "display_name": "Python 3"
    }
  },
  "nbformat": 4,
  "nbformat_minor": 0
}