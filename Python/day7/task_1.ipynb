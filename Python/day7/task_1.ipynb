{
  "cells": [
    {
      "cell_type": "markdown",
      "metadata": {
        "id": "xkFz0mAUHHQ-"
      },
      "source": [
        "사용자로부터 두 개의 숫자를 입력받아 나눗셈을 수행하는 프로그램을 작성하세요.\n",
        "\n",
        "[예외처리]\n",
        "- 입력 값이 숫자가 아닐 때 발생할 수 있는 ValueError\n",
        "- 나누는 수가 0일 때 발생할 수 있는 ZeroDivisionError\n",
        "- 위 2가지 예외처리 후 사용자에게 이해하기 쉬운 메시지 작성 후 출력되도록 코드를 작성"
      ]
    },
    {
      "cell_type": "code",
      "source": [
        "# numbers 라는 함수 정의\n",
        "def numbers():\n",
        "    try:\n",
        "        # 두개 숫자 입력 받기\n",
        "        num1 = int(input(\"첫 번째 숫자를 입력하세요: \"))\n",
        "        num2 = int(input(\"두 번째 숫자를 입력하세요: \"))\n",
        "\n",
        "        # 입력 받은 숫자 나누기\n",
        "        devide = num1 / num2\n",
        "        print(f\"{num1} / {num2} = {devide}\")\n",
        "\n",
        "    # 예외처리 및 각 경고 문구 출력\n",
        "    except ValueError:\n",
        "        print(\"경고! 숫자를 입력하세요.\")\n",
        "    except ZeroDivisionError:\n",
        "        print(\"경고! 0으로 나눌 수 없습니다. 다른 숫자를 입력해주세요.\")\n",
        "\n",
        "numbers()"
      ],
      "metadata": {
        "colab": {
          "base_uri": "https://localhost:8080/"
        },
        "id": "Mkb-TOEbHiep",
        "outputId": "ede86e96-392a-4398-f0ea-85e5a7522149"
      },
      "execution_count": 2,
      "outputs": [
        {
          "output_type": "stream",
          "name": "stdout",
          "text": [
            "첫 번째 숫자를 입력하세요: 3.0\n",
            "경고! 숫자를 입력하세요.\n"
          ]
        }
      ]
    }
  ],
  "metadata": {
    "language_info": {
      "name": "python"
    },
    "colab": {
      "provenance": []
    },
    "kernelspec": {
      "name": "python3",
      "display_name": "Python 3"
    }
  },
  "nbformat": 4,
  "nbformat_minor": 0
}