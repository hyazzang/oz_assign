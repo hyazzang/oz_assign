{
  "cells": [
    {
      "cell_type": "markdown",
      "metadata": {
        "id": "y7JFHmYPYTD9"
      },
      "source": [
        "사용자로부터 여러 개의 숫자를 입력받아 리스트에 저장한 후, 사용자가 'done'이라고 입력할 때까지 계속 입력받으세요.\n",
        "\n",
        "- 입력 중 숫자가 아닌 값이 입력되면 ValueError를 처리\n",
        "- 숫자 외 값이 입력된 경우 어떤 값이 잘못 입력되었는지 사용자에게 알려주는 문구 출력<br>\n",
        "  (예: f\"잘못된 값: {변수}. 숫자를 입력해주세요.\")\n",
        "\n"
      ]
    },
    {
      "cell_type": "code",
      "source": [
        "# 함수 정의\n",
        "def right_nums():\n",
        "    nums = [] # 숫자를 저장할 리스트\n",
        "    while True:\n",
        "        in_input = input(\"숫자를 입력하세요. (done 입력시 종료): \") # 숫자를 입력받기\n",
        "        if in_input == \"done\": # done 을 입력하면\n",
        "            break # 반복 종료\n",
        "        try:\n",
        "            num = int(in_input) # 숫자로 변환\n",
        "            if num < 0: # 0보다 작다면\n",
        "                raise ValueError\n",
        "            if in_input.strip() == \"-\": # - 입력시\n",
        "                raise ValueError\n",
        "            if in_input.strip() == \"\": # 공백 입력시\n",
        "                raise ValueError\n",
        "            if num % 1 == 0: # 1로 나눴을때 나머지가 0이라면\n",
        "                nums.append(int(num)) # nums 리스트에 num 추가\n",
        "        except ValueError: # 값 작성 오류가 나면 실행\n",
        "            print(f\"잘못된 값: {in_input}. 숫자를 입력해주세요.\") # 출력\n",
        "    return nums # nums 리스트 반환\n",
        "\n",
        "right_nums()"
      ],
      "metadata": {
        "colab": {
          "base_uri": "https://localhost:8080/"
        },
        "id": "5MR1DYEBYto0",
        "outputId": "31969e76-a705-458a-d12d-fd26523da166"
      },
      "execution_count": 16,
      "outputs": [
        {
          "name": "stdout",
          "output_type": "stream",
          "text": [
            "숫자를 입력하세요. (done 입력시 종료): 3\n",
            "숫자를 입력하세요. (done 입력시 종료): 0\\\n",
            "잘못된 값: 0\\. 숫자를 입력해주세요.\n",
            "숫자를 입력하세요. (done 입력시 종료): -1\n",
            "잘못된 값: -1. 숫자를 입력해주세요.\n",
            "숫자를 입력하세요. (done 입력시 종료): \n",
            "잘못된 값: . 숫자를 입력해주세요.\n",
            "숫자를 입력하세요. (done 입력시 종료): done\n"
          ]
        },
        {
          "output_type": "execute_result",
          "data": {
            "text/plain": [
              "[3]"
            ]
          },
          "metadata": {},
          "execution_count": 16
        }
      ]
    }
  ],
  "metadata": {
    "language_info": {
      "name": "python"
    },
    "colab": {
      "provenance": []
    },
    "kernelspec": {
      "name": "python3",
      "display_name": "Python 3"
    }
  },
  "nbformat": 4,
  "nbformat_minor": 0
}