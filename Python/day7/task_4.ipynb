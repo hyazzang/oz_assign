{
  "cells": [
    {
      "cell_type": "markdown",
      "metadata": {
        "id": "DTyw2dGkbqrQ"
      },
      "source": [
        "사용자 정의 예외 NegativeNumberError를 생성하고, 사용자로부터 숫자를 입력받아 음수일 경우 NegativeNumberError를 발생시키는 프로그램을 작성하세요.\n",
        "\n",
        "- 예외 처리 구문을 사용하여 음수 입력 시 \"양수를 입력해주세요.\"라는 메시지를 출력"
      ]
    },
    {
      "cell_type": "code",
      "source": [
        "# 클래스 정의\n",
        "class NegativeNumberError(Exception): # Exception은 클래스를 상속받아 사용자 정의 예외를 만듬\n",
        "    pass\n",
        "\n",
        "def positive_number(): # positive_number 라는 함수를 정의\n",
        "    while True:\n",
        "        try:\n",
        "            number = int(input(\"숫자를 입력하세요. (양수만 입력 가능): \")) # 숫자 입력시 number 변수에 저장\n",
        "            if number < 0: # num 변수가 0보다 작다면(음수라면)\n",
        "                raise NegativeNumberError # NegativeNumberError 예외를 발생\n",
        "            return number # number 변수를 반환\n",
        "        except NegativeNumberError: # 음수 입력시\n",
        "            print(\"양수를 입력해주세요.\") # 출력\n",
        "\n",
        "positive_number()"
      ],
      "metadata": {
        "colab": {
          "base_uri": "https://localhost:8080/"
        },
        "id": "eUfZllM3b4wi",
        "outputId": "04b05163-7485-4218-bc07-081aaa9c40fa"
      },
      "execution_count": 7,
      "outputs": [
        {
          "name": "stdout",
          "output_type": "stream",
          "text": [
            "숫자를 입력하세요. (양수만 입력 가능): -1\n",
            "양수를 입력해주세요.\n",
            "숫자를 입력하세요. (양수만 입력 가능): -2\n",
            "양수를 입력해주세요.\n",
            "숫자를 입력하세요. (양수만 입력 가능): -3\n",
            "양수를 입력해주세요.\n",
            "숫자를 입력하세요. (양수만 입력 가능): 3\n"
          ]
        },
        {
          "output_type": "execute_result",
          "data": {
            "text/plain": [
              "3"
            ]
          },
          "metadata": {},
          "execution_count": 7
        }
      ]
    }
  ],
  "metadata": {
    "language_info": {
      "name": "python"
    },
    "colab": {
      "provenance": []
    },
    "kernelspec": {
      "name": "python3",
      "display_name": "Python 3"
    }
  },
  "nbformat": 4,
  "nbformat_minor": 0
}