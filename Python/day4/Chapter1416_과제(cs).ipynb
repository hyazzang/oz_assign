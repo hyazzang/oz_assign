{
  "cells": [
    {
      "cell_type": "markdown",
      "metadata": {
        "id": "WXEwMsfUct7U"
      },
      "source": [
        "컴퓨터 기초 지식을 의미하는 CS(Computer science)는<br>\n",
        "코딩 테스트와 함께 기술 면접에서 지원자에게 필수적으로 요구합니다.<br>\n",
        "\n",
        "수업 내용 중 기술 면접에 자주 나오는 질문 3가지와 기본적으로 알아야 할 내용 과제로 선정했습니다.<br>\n",
        "\n",
        "관련 내용에 대해서는 구글링 또는 관련 서적을 통해 상세히 공부하시고<br>\n",
        "답변은 최대한 핵심만 담아 간결하게 작성해주세요<br>\n",
        "\n",
        "기술 블로그를 운영 중이신 경우<br>\n",
        "답변 내용을 기술 블로그에 작성하신 후 링크를 답변에 남겨주셔도 됩니다.<br>"
      ]
    },
    {
      "cell_type": "markdown",
      "metadata": {
        "id": "qoyC9wF-3hvs"
      },
      "source": [
        "-----"
      ]
    },
    {
      "cell_type": "markdown",
      "metadata": {
        "id": "rAD_O3Gmc_43"
      },
      "source": [
        "[문제1]\n",
        "\n",
        "파이썬 2.7 버전과 파이썬 3에서 range 차이를 설명해주세요"
      ]
    },
    {
      "cell_type": "markdown",
      "metadata": {
        "id": "x6gSUW3khPdn"
      },
      "source": [
        "> # 2.7 ver  \n",
        "> * 실제 리스트를 생성한다.  \n",
        "  \n",
        "  \n",
        "> # 3 ver  \n",
        "> * iterator를 반환한다.\n",
        "> * range 함수를 호출해도 결과를 바로 리스트에 반환하지 않음으로, 필요한 경우에만 리스트로 변환하여 사용할 수 있다.\n",
        "  \n",
        "\n",
        "iterator  \n",
        ": 반복을 지원하기 위한 객체  \n",
        ": __iter_(), _next__() 메서드를 가지고 있음.  \n",
        ": 주로 for 같은 반복문에서 사용  \n",
        ": 요소를 필요할때마다 생성하므로 메모리를 효율적으로 사용할 수 있음."
      ]
    },
    {
      "cell_type": "markdown",
      "metadata": {
        "id": "AH04jWX2hPdn"
      },
      "source": [
        "---"
      ]
    },
    {
      "cell_type": "markdown",
      "metadata": {
        "id": "3uK_auXYdgk2"
      },
      "source": [
        "[문제2]\n",
        "\n",
        "Python의 얕은 복사와 깊은 복사에 대해서 설명하세요"
      ]
    },
    {
      "cell_type": "markdown",
      "source": [
        "> # 얕은 복사\n",
        "> * 새로_가져올_객체 = copy.copy(복사할_객체명)  \n",
        "> * 원본 객체의 최상위 레벨만 복사 (=겉만 복사)  \n",
        ">   - 객체의 참조값(=주소값)만 복사  \n",
        ">   - 두 변수(원본/복사본) 간의 독립성이 성립하지 않음.\n",
        "> * 새로운 리스트를 만들지만, 그 안의 요소들은 원본 리스트와 같은 객체를 참조  \n",
        "  \n",
        "\n",
        "> # 깊은 복사\n",
        "> * 새로_가져올_객체 = copy.deepcopy(복사할_객체명)\n",
        "> * 원본 객체의 모든 레벨을 재귀적으로 복사 (=원본 객체와 완전히 다른 새로운 복사)  \n",
        ">   - 다른 메모리 공간에 복사, 객체의 독립성 유지  \n",
        "> * 주로 중첩된 리스트나 딕셔너리와 같이 내부 객체까지 모두 복사할때 사용  \n",
        "\n",
        "  \n",
        "재귀적(recursive)  \n",
        ": 자기 자신을 다시 이용하여 대상을 정의하는 것  \n",
        ": 어떤 사건이 자신을 포함하고 다시 자기 자신을 사용하여 정의  \n",
        ": 출력이 다시 입력으로 되돌아가서 사용되는 것"
      ],
      "metadata": {
        "id": "QGN9RenljC4I"
      }
    }
  ],
  "metadata": {
    "colab": {
      "provenance": []
    },
    "kernelspec": {
      "display_name": "Python 3",
      "name": "python3"
    },
    "language_info": {
      "name": "python"
    }
  },
  "nbformat": 4,
  "nbformat_minor": 0
}