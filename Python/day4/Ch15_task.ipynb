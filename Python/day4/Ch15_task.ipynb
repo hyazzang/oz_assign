{
  "cells": [
    {
      "cell_type": "markdown",
      "metadata": {
        "id": "Gg3T5rx2jAZ6"
      },
      "source": [
        "<span style=\"font-size:100%\">\n",
        "\n",
        "수업은 모두 열심히 들으셨나요?\n",
        "\n",
        "간혹 강의에서 언급되지 않은 내용이 문제로 나올 수 있습니다.<br>\n",
        "그럴땐 강의 내용 외 문제는 구글링을 통해 해결해주세요<br></span>\n",
        "<span style=\"font-size:80%\">\n",
        "(구글링 또한 개발자가 갖쳐야할 역량 중에 하나랍니다 😊)\n",
        "</span>\n",
        "\n",
        "---"
      ]
    },
    {
      "cell_type": "markdown",
      "metadata": {
        "id": "UNCj8UGNjAZ8"
      },
      "source": [
        "<span style=\"font-size:80%\">[문제1]<br><br></span>\n",
        "```다음 중 for문으로 10번 반복하는 방법으로 올바른 것을 모두 골라주세요```\n",
        "\n",
        "1. for i in range(10):\n",
        "2. for i in range(5, 16):\n",
        "3. for i in range(10, 0):\n",
        "4. for i in range(20, 40, 2):\n",
        "5. for i in range(1, 10, 1):"
      ]
    },
    {
      "cell_type": "markdown",
      "metadata": {
        "id": "BJPEN4yEjAZ9"
      },
      "source": [
        "<span style=\"color:red\">답변</span>"
      ]
    },
    {
      "cell_type": "markdown",
      "metadata": {
        "id": "k7-OvMkIjAZ9"
      },
      "source": [
        "1번, 4번\n",
        "\n",
        "1: 0부터 9까지 = 10개  \n",
        "2: 5부터 15까지 = 11개  \n",
        "3: range는 증가 방향으로 작동 -> 빈 범위  \n",
        "4: 20부터 39까지, 2씩 증가 = 10개  \n",
        "5: 1부터 9까지, 1씩 증가 = 9개  \n"
      ]
    },
    {
      "cell_type": "markdown",
      "metadata": {
        "id": "uIsi7oqNjAZ9"
      },
      "source": [
        "----"
      ]
    },
    {
      "cell_type": "markdown",
      "metadata": {
        "id": "B5TBkZXwjAZ9"
      },
      "source": [
        "<span style=\"font-size:80%\">[문제2]<br><br></span>\n",
        "```아래 코드에서 잘못된 부분에 대해서 설명해주세요```\n",
        "\n",
        "count = input()\n",
        "\n",
        "for i in range(count)<br>\n",
        "&emsp;&emsp;print('i의 값은', end=' ')<br>\n",
        "&emsp;&emsp;print(i)<br>"
      ]
    },
    {
      "cell_type": "markdown",
      "metadata": {
        "id": "uqTunEs3jAZ-"
      },
      "source": [
        "<span style=\"color:red\">답변</span>"
      ]
    },
    {
      "cell_type": "markdown",
      "metadata": {
        "id": "iAMFLMWrjAZ-"
      },
      "source": [
        "count=int(input())  \n",
        "* for 에서 range(count)를 사용하려면 count는 정수여야 합니다.  \n",
        "\n",
        "for i in range(count):  \n",
        "* 끝줄에 : 누락\n",
        "\n"
      ]
    },
    {
      "cell_type": "markdown",
      "metadata": {
        "id": "TIZks5PLjAZ-"
      },
      "source": [
        "----"
      ]
    },
    {
      "cell_type": "markdown",
      "metadata": {
        "id": "pVZ8T5FvjAZ-"
      },
      "source": [
        "<span style=\"font-size:80%\">[문제3]<br><br></span>\n",
        "```아래 코드를 실행 했을 때 결과물로 올바른 것을 골라주세요```\n",
        "\n",
        "for i in reversed(\"python\"):<br>\n",
        "&emsp;&emsp;print(i, end='.')<br>"
      ]
    },
    {
      "cell_type": "markdown",
      "metadata": {
        "id": "KUL4vyAhjAZ-"
      },
      "source": [
        "<span style=\"color:red\">답변</span>"
      ]
    },
    {
      "cell_type": "markdown",
      "metadata": {
        "id": "n3Ym5cVMjAZ-"
      },
      "source": [
        "reversed = 뒤집기 = nohtyp  \n",
        "\n",
        "for i in reversed(\"python\") = n, o, h, t, y, p 순으로 반환  \n",
        "\n",
        "print(i, end=\".\") i(for루프변수)를 출력, end=\".\" 출력 끝에 . 을 붙이기  \n",
        "\n",
        "답: n.o.h.t.y.p."
      ]
    },
    {
      "cell_type": "markdown",
      "metadata": {
        "id": "7fyypVyxjAZ-"
      },
      "source": [
        "----"
      ]
    },
    {
      "cell_type": "markdown",
      "metadata": {
        "id": "pnXDW7y3jAZ-"
      },
      "source": [
        "<span style=\"font-size:80%\">[문제4]<br><br></span>\n",
        "```리스트에 저장된 데이터를 아래와 같이 출력하세요```\n",
        "\n",
        "오피스텔 = [ [201, 202], [301, 302], [401, 402] ]\n",
        "\n",
        "201호<br>\n",
        "202호<br>\n",
        "`----`\n",
        "\n",
        "301호<br>\n",
        "302호<br>\n",
        "`----`\n",
        "\n",
        "401호<br>\n",
        "402호<br>\n",
        "`----`"
      ]
    },
    {
      "cell_type": "markdown",
      "metadata": {
        "id": "ELCGZlsHjAZ-"
      },
      "source": [
        "<span style=\"color:red\">답변</span>"
      ]
    },
    {
      "cell_type": "code",
      "source": [
        "오피스텔 = [[201,202],[301,302],[401,402]]\n",
        "for i in 오피스텔: # for문 i변수 오피스텔list\n",
        "    for f in i: # for문 f변수 반복하는 변수 내 값에\n",
        "        print(f'{f}호') # 호 라는 문자가 같이 출력\n",
        "    print('----') # 오피스텔 리스트 내 객체별로 ---- 표시"
      ],
      "metadata": {
        "colab": {
          "base_uri": "https://localhost:8080/"
        },
        "id": "n4cPpyvAmHZt",
        "outputId": "69e0aeac-4b28-4204-8c56-d4b793aff792"
      },
      "execution_count": 3,
      "outputs": [
        {
          "output_type": "stream",
          "name": "stdout",
          "text": [
            "201호\n",
            "202호\n",
            "----\n",
            "301호\n",
            "302호\n",
            "----\n",
            "401호\n",
            "402호\n",
            "----\n"
          ]
        }
      ]
    },
    {
      "cell_type": "markdown",
      "metadata": {
        "id": "fJ3fHhqijAZ_"
      },
      "source": []
    },
    {
      "cell_type": "markdown",
      "metadata": {
        "id": "8H25ZhENjAZ_"
      },
      "source": [
        "----"
      ]
    },
    {
      "cell_type": "markdown",
      "metadata": {
        "id": "KJRavtcEjAZ_"
      },
      "source": [
        "<span style=\"font-size:80%\">[문제5]<br><br></span>\n",
        "```ohlc 리스트에는 시가(open), 고가 (high), 저가 (low) , 종가(close)가 날짜별로 저장돼 있다. 종가가 150원보다 큰 경우에만 종가를 출력하는 코드를 작성해주세요```\n",
        "\n",
        "ohlc = [[\"open\", \"high\", \"low\", \"close\"], [100, 110, 70, 100], [200, 210, 180, 190], [300, 310, 300, 310]]"
      ]
    },
    {
      "cell_type": "markdown",
      "metadata": {
        "id": "6DbU06Q-jAZ_"
      },
      "source": [
        "<span style=\"color:red\">답변</span>"
      ]
    },
    {
      "cell_type": "code",
      "source": [
        "# 종가가 150보다 큰 경우에만 종가를 출력\n",
        "\n",
        "ohlc = [[\"open\", \"high\", \"low\", \"close\"], [100, 110, 70, 100], [200, 210, 180, 190], [300, 310, 300, 310]]\n",
        "\n",
        "for i in ohlc[1:]: # 첫번째 행을 제외 하고 반복\n",
        "    close = i[3] # 종가값(인덱스3)\n",
        "    if close > 150: # 150보다 큰 경우\n",
        "        print(close) # 출력"
      ],
      "metadata": {
        "colab": {
          "base_uri": "https://localhost:8080/"
        },
        "id": "lys5WlLlnsS2",
        "outputId": "89ddf825-e9f5-4001-fffd-47a8120c2ecd"
      },
      "execution_count": 6,
      "outputs": [
        {
          "output_type": "stream",
          "name": "stdout",
          "text": [
            "190\n",
            "310\n"
          ]
        }
      ]
    },
    {
      "cell_type": "markdown",
      "metadata": {
        "id": "f5XzeMQxjAZ_"
      },
      "source": []
    }
  ],
  "metadata": {
    "language_info": {
      "name": "python"
    },
    "colab": {
      "provenance": []
    },
    "kernelspec": {
      "name": "python3",
      "display_name": "Python 3"
    }
  },
  "nbformat": 4,
  "nbformat_minor": 0
}