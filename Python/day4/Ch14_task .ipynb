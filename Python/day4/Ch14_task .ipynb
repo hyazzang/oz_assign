{
  "cells": [
    {
      "cell_type": "markdown",
      "metadata": {
        "id": "kOVQgxKSgXA3"
      },
      "source": [
        "<span style=\"font-size:100%\">\n",
        "\n",
        "수업은 모두 열심히 들으셨나요?\n",
        "\n",
        "간혹 강의에서 언급되지 않은 내용이 문제로 나올 수 있습니다.<br>\n",
        "그럴땐 강의 내용 외 문제는 구글링을 통해 해결해주세요<br></span>\n",
        "<span style=\"font-size:80%\">\n",
        "(구글링 또한 개발자가 갖쳐야할 역량 중에 하나랍니다 😊)\n",
        "</span>\n",
        "\n",
        "---"
      ]
    },
    {
      "cell_type": "markdown",
      "metadata": {
        "id": "p_y4CFg_gXA5"
      },
      "source": [
        "<span style=\"font-size:80%\">[문제1]<br><br></span>\n",
        "```다음 중 True로 취급되지 않는 것을 골라주세요```\n",
        "\n",
        "1. 1\n",
        "2. \"수강생\"\n",
        "3. None\n",
        "4. [\"양파\", \"옥수수\", \"배추\"]"
      ]
    },
    {
      "cell_type": "markdown",
      "metadata": {
        "id": "55P2EohigXA5"
      },
      "source": [
        "<span style=\"color:red\">답변</span>"
      ]
    },
    {
      "cell_type": "markdown",
      "metadata": {
        "id": "5kZks63sgXA6"
      },
      "source": [
        "3번\n",
        "\n",
        "이유: None은 False"
      ]
    },
    {
      "cell_type": "markdown",
      "metadata": {
        "id": "qHYFnGgXgXA6"
      },
      "source": [
        "----"
      ]
    },
    {
      "cell_type": "markdown",
      "metadata": {
        "id": "8-KLK3XbgXA6"
      },
      "source": [
        "<span style=\"font-size:80%\">[문제2]<br><br></span>\n",
        "```아래 코드의 출력 결과를 입력해주세요```\n",
        "\n",
        "```if not ' ':```<br>\n",
        "&nbsp;```  print(True)```<br>\n",
        "\n",
        "```else:```<br>\n",
        "&nbsp;```  print(False)```<br>"
      ]
    },
    {
      "cell_type": "markdown",
      "metadata": {
        "id": "YHV2YWQDgXA6"
      },
      "source": [
        "<span style=\"color:red\">답변</span>"
      ]
    },
    {
      "cell_type": "markdown",
      "metadata": {
        "id": "jW8V_zHOgXA6"
      },
      "source": [
        "False\n",
        "\n",
        "이유: 공백이 포함된 문자열 이라서 True값인데 if 'not'이니까 False로 출력됩니다."
      ]
    },
    {
      "cell_type": "markdown",
      "metadata": {
        "id": "C3jYkoihgXA6"
      },
      "source": [
        "----"
      ]
    },
    {
      "cell_type": "markdown",
      "metadata": {
        "id": "0W3x0qCigXA6"
      },
      "source": [
        "<span style=\"font-size:80%\">[문제3]<br><br></span>\n",
        "```if 조건문에 대한 설명으로 올바른 것을 골라주세요```\n",
        "\n",
        "1. if문은 조건을 만족하지 않을때 실행된다.\n",
        "2. else문은 조건문이 참일 때 실행된다.\n",
        "3. else는 단독으로 사용할 수 없다.\n",
        "4. else에서 실행되는 코드는 다음 줄에서 들여쓰기를 하지 않아야 한다.\n",
        "5. if는 항상 else가 있어여 한다."
      ]
    },
    {
      "cell_type": "markdown",
      "metadata": {
        "id": "kWSE-dfIgXA7"
      },
      "source": [
        "<span style=\"color:red\">답변</span>"
      ]
    },
    {
      "cell_type": "markdown",
      "metadata": {
        "id": "b3fQ5vQJgXA7"
      },
      "source": [
        "3번\n",
        "\n",
        "1: if는 조건이 true일때 실행된다.  \n",
        "2: else는 if의 조건이 false일때 실행된다.  \n",
        "4: 들여쓰기 해야 합니다.  \n",
        "5: if는 단독 사용이 가능합니다. else가 단독으로 사용 불가능 합니다.  "
      ]
    },
    {
      "cell_type": "markdown",
      "metadata": {
        "id": "jd_B_3AcgXA7"
      },
      "source": [
        "----"
      ]
    },
    {
      "cell_type": "markdown",
      "metadata": {
        "id": "yrVgSltogXA7"
      },
      "source": [
        "<span style=\"font-size:80%\">[문제4]<br><br></span>\n",
        "```아래 코드의 출력으로 올바른 것을 골라주세요```\n",
        "\n",
        "```x = 5```\n",
        "\n",
        "```if x % 2 ==0:```<br>\n",
        "&nbsp;&nbsp;```print(\"짝수\")```\n",
        "\n",
        "```else:```<br>\n",
        "&nbsp;&nbsp;```print(\"홀수\")```<br>\n",
        "\n",
        "\n",
        "1. 짝수\n",
        "2. 1\n",
        "3. 2\n",
        "4. 홀수\n",
        "5. 아무것도 출력되지 않는다."
      ]
    },
    {
      "cell_type": "markdown",
      "metadata": {
        "id": "D3aH1P9CgXA7"
      },
      "source": [
        "<span style=\"color:red\">답변</span>"
      ]
    },
    {
      "cell_type": "markdown",
      "metadata": {
        "id": "Temvx6zFgXA7"
      },
      "source": [
        "4번\n",
        "\n",
        "이유: 5 나누기 2 를 했을때 나머지 값이 0인가 -> 1임 -> 0이 아님으로 else문의 \"홀수\" 가 출력됨."
      ]
    },
    {
      "cell_type": "markdown",
      "metadata": {
        "id": "qKpqioUjgXA7"
      },
      "source": [
        "----"
      ]
    },
    {
      "cell_type": "markdown",
      "metadata": {
        "id": "C__66khggXA7"
      },
      "source": [
        "<span style=\"font-size:80%\">[문제5]<br><br></span>\n",
        "```아래의 if 조건과 동일한 조건을 찾아주세요```\n",
        "\n",
        "```if 15 >= x and x > 3```\n",
        "\n",
        "1. x < 3 < 15\n",
        "2. 3 <= x < 15\n",
        "3. 3 <= x <= 15\n",
        "4. 15 >= x\n",
        "5. 3 < x <= 15"
      ]
    },
    {
      "cell_type": "markdown",
      "metadata": {
        "id": "-UnwtpsMgXA7"
      },
      "source": [
        "<span style=\"color:red\">답변</span>"
      ]
    },
    {
      "cell_type": "markdown",
      "metadata": {
        "id": "9X3SJv9lgXA7"
      },
      "source": [
        "5번"
      ]
    }
  ],
  "metadata": {
    "language_info": {
      "name": "python"
    },
    "colab": {
      "provenance": []
    },
    "kernelspec": {
      "name": "python3",
      "display_name": "Python 3"
    }
  },
  "nbformat": 4,
  "nbformat_minor": 0
}