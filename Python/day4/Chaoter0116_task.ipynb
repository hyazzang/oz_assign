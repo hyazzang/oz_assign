{
  "cells": [
    {
      "cell_type": "markdown",
      "metadata": {
        "id": "BX7SgOeWu86I"
      },
      "source": [
        "안녕하세요. 수강생 여러분~!\n",
        "\n",
        "다시 돌아온 조금 더 성장할 기 ! 회 !\n",
        "\n",
        "Chapter01 ~ 16의 수업 내용을 바탕으로 아래 문제를 풀어주시면 됩니다 !\n",
        "\n",
        "지금까지 잘 해오셨으니까, 총 복습한다고 생각하시고 한번 도전해보세요 !!!\n",
        "\n",
        "차근 차근 문제와 요구사항을 읽고 작성해보세요.\n",
        "\n",
        "<br>\n",
        "\n",
        "\n",
        "[**답변 입력 방법**]\n",
        "\n",
        "문제 아래에 있는 코드 입력창에 정답코드를 작성하신 후  __▷ 버튼을 클릭해 코드를 실행__ 해보세요<br>"
      ]
    },
    {
      "cell_type": "markdown",
      "metadata": {
        "id": "D6_N4mezsZBK"
      },
      "source": [
        "---"
      ]
    },
    {
      "cell_type": "markdown",
      "metadata": {
        "id": "j54AuJePsZBK"
      },
      "source": [
        "#### 프로젝트: 붕어빵 자동 판매 시스템\n",
        "\n",
        "\n",
        "당신은 붕어빵 가게의 주인입니다.\n",
        "\n",
        "손님들이 붕어빵을 주문하면 이를 자동으로 처리하고, 재고를 관리하는 시스템을 만들고자 합니다.\n",
        "\n",
        "또한, 관리자 모드를 통해 재고를 추가할 수 있는 기능을 구현해야 합니다.\n"
      ]
    },
    {
      "cell_type": "markdown",
      "metadata": {
        "id": "QAiDVjPRsZBL"
      },
      "source": [
        "__[문제 1: 붕어빵 재고 확인]__\n",
        "\n",
        "붕어빵 가게의 현재 재고를 확인하는 기능을 구현하세요.\n",
        "\n",
        "요구사항:\n",
        "- 현재 붕어빵의 재고를 딕셔너리로 관리합니다.\n",
        "- 딕셔너리에는 붕어빵의 종류와 각각의 재고 개수가 저장됩니다.\n",
        "- 현재 재고를 화면에 출력하세요.\n",
        "\n",
        "붕어빵 재고\n",
        "- 팥붕어빵 : 10개\n",
        "- 슈크림붕어빵 : 8개\n",
        "- 초코붕어빵 : 5개"
      ]
    },
    {
      "cell_type": "code",
      "execution_count": 20,
      "metadata": {
        "colab": {
          "base_uri": "https://localhost:8080/"
        },
        "id": "Hk3_-3u1s56O",
        "outputId": "5d2e3408-c501-4281-c942-1e19bbca2b6f"
      },
      "outputs": [
        {
          "name": "stdout",
          "output_type": "stream",
          "text": [
            "팥붕어빵: 10개\n",
            "슈크림붕어빵: 8개\n",
            "초코붕어빵: 5개\n"
          ]
        }
      ],
      "source": [
        "# 붕어빵 재고\n",
        "bread_stock = {\"팥붕어빵\": 10, \"슈크림붕어빵\": 8, \"초코붕어빵\": 5}\n",
        "\n",
        "# 현재 재고 출력\n",
        "for b, s in bread_stock.items():\n",
        "    print(f\"{b}: {s}개\")"
      ]
    },
    {
      "cell_type": "markdown",
      "metadata": {
        "id": "4KTEmNGcsZBL"
      },
      "source": [
        "__[문제 2: 붕어빵 주문 받기]__\n",
        "\n",
        "손님이 주문한 붕어빵의 종류와 개수를 입력받는 기능을 구현하세요.\n",
        "\n",
        "요구사항:\n",
        "- 손님이 주문할 붕어빵의 종류와 개수를 입력받습니다.\n",
        "- 주문 내용을 딕셔너리에 저장하세요.\n",
        "- 주문 내역을 출력해주세요."
      ]
    },
    {
      "cell_type": "code",
      "execution_count": 21,
      "metadata": {
        "colab": {
          "base_uri": "https://localhost:8080/"
        },
        "id": "eUpk_4QttfP-",
        "outputId": "d013febb-e1b5-4646-ff8a-be48c7f1991c"
      },
      "outputs": [
        {
          "name": "stdout",
          "output_type": "stream",
          "text": [
            "주문할 붕어빵 종류를 입력하세요: 팥붕어빵\n",
            "주문할 붕어빵 개수를 입력하세요: 5\n",
            "주문 내역:\n",
            "팥붕어빵: 5개\n"
          ]
        }
      ],
      "source": [
        "# 주문 내역\n",
        "order_dict = {}\n",
        "\n",
        "# 주문할 붕어빵 종류, 개수\n",
        "bread = input(\"주문할 붕어빵 종류를 입력하세요: \")\n",
        "quantity = int(input(\"주문할 붕어빵 개수를 입력하세요: \"))\n",
        "\n",
        "# 딕셔너리에 저장\n",
        "if bread in order_dict:\n",
        "    order_dict[bread] += quantity\n",
        "else:\n",
        "    order_dict[bread] = quantity\n",
        "\n",
        "# 주문내역 출력\n",
        "print(\"주문 내역:\")\n",
        "for bread, quantity in order_dict.items():\n",
        "    print(f\"{bread}: {quantity}개\")"
      ]
    },
    {
      "cell_type": "markdown",
      "metadata": {
        "id": "s1jSdMmWsZBL"
      },
      "source": [
        "__[문제 3: 붕어빵 주문 처리]__\n",
        "\n",
        "손님의 주문을 처리하여 붕어빵 재고를 업데이트하는 기능을 구현하세요.\n",
        "\n",
        "요구사항:\n",
        "- 손님의 주문 내용을 기반으로 재고를 업데이트합니다.\n",
        "- 재고가 부족할 경우, 손님에게 재고 부족을 알리고 재고를 감소시키지 않습니다.\n",
        "- 재고가 충분할 경우, 주문한 만큼 재고를 감소시키고 판매를 완료합니다.\n",
        "- 판매가 완료된 경우 판매된 붕어빵 맛과 개수를 출력하세요."
      ]
    },
    {
      "cell_type": "code",
      "execution_count": 26,
      "metadata": {
        "colab": {
          "base_uri": "https://localhost:8080/"
        },
        "id": "IrVi5Og3sZBL",
        "outputId": "97dcfddc-b595-48a9-e93d-1f809604623e"
      },
      "outputs": [
        {
          "name": "stdout",
          "output_type": "stream",
          "text": [
            "주문할 붕어빵 종류를 입력하세요: 슈크림붕어빵\n",
            "주문할 슈크림붕어빵 개수를 입력하세요: 10\n",
            "재고 부족! 현재 재고: 8개\n",
            "-----\n",
            "현재 재고 상태\n",
            "팥붕어빵: 10개\n",
            "슈크림붕어빵: 8개\n",
            "초코붕어빵: 5개\n",
            "-----\n",
            "판매된 주문 내역\n"
          ]
        }
      ],
      "source": [
        "# 주문 내역\n",
        "order_dict = {}\n",
        "\n",
        "# 붕어빵 재고\n",
        "bread_stock = {\"팥붕어빵\": 10, \"슈크림붕어빵\": 8, \"초코붕어빵\": 5}\n",
        "\n",
        "# 붕어빵 주문\n",
        "bread = input(\"주문할 붕어빵 종류를 입력하세요: \")\n",
        "quantity = int(input(f'주문할 {bread} 개수를 입력하세요: '))\n",
        "\n",
        "# 주문 기반으로 재고 업데이트\n",
        "if bread_stock[bread] >= quantity:\n",
        "    bread_stock[bread] -= quantity\n",
        "\n",
        "    # 주문 내역 추가\n",
        "    if bread in order_dict:\n",
        "        order_dict[bread] += quantity\n",
        "    else:\n",
        "        order_dict[bread] = quantity\n",
        "\n",
        "    print(f\"{bread} {quantity}개 주문 완료! \")\n",
        "else:\n",
        "    print(f'재고 부족! 현재 재고: {bread_stock[bread]}개')\n",
        "\n",
        "print(\"-----\")\n",
        "\n",
        "# 재고 출력\n",
        "print(\"현재 재고 상태\")\n",
        "for bread, stock in bread_stock.items():\n",
        "    print(f\"{bread}: {stock}개\")\n",
        "\n",
        "print(\"-----\")\n",
        "\n",
        "# 판매된 주문 내역\n",
        "print(\"판매된 주문 내역\")\n",
        "for bread, quantity in order_dict.items():\n",
        "    print(f\"{bread}: {quantity}개\")"
      ]
    },
    {
      "cell_type": "markdown",
      "metadata": {
        "id": "AC9JzcU8sZBM"
      },
      "source": [
        "__[문제 4: 여러 손님 주문 처리]__\n",
        "\n",
        "여러 손님들의 주문을 처리할 수 있도록 시스템을 확장하세요.\n",
        "\n",
        "요구사항:\n",
        "- 손님이 \"종료\"를 입력할 때까지 주문을 계속 받습니다.\n",
        "- 각 주문마다 재고를 업데이트합니다.\n",
        "- 현재 재고를 화면에 출력합니다."
      ]
    },
    {
      "cell_type": "code",
      "execution_count": 24,
      "metadata": {
        "colab": {
          "base_uri": "https://localhost:8080/"
        },
        "id": "bVWXVtGasZBM",
        "outputId": "07da755a-6677-4331-8d61-f21dbe138a3d"
      },
      "outputs": [
        {
          "name": "stdout",
          "output_type": "stream",
          "text": [
            "주문할 붕어빵 종류를 입력하세요: (주문 종료시 '종료' 입력)팥붕어빵\n",
            "주문할 붕어빵 개수를 입력하세요: 10\n",
            "재고가 부족합니다. 현재 재고: 5개\n",
            "-----\n",
            "현재 재고 상태:\n",
            "팥붕어빵: 5개\n",
            "슈크림붕어빵: 8개\n",
            "초코붕어빵: 5개\n",
            "주문할 붕어빵 종류를 입력하세요: (주문 종료시 '종료' 입력)종료\n"
          ]
        }
      ],
      "source": [
        "# 종료를 입력할때까지 계속 주문을 받는다\n",
        "# 주문 마다 재고 업데이트\n",
        "# 현재 재고 출력\n",
        "\n",
        "while True:\n",
        "    bread = input(\"주문할 붕어빵 종류를 입력하세요: (주문 종료시 '종료' 입력)\")\n",
        "    if bread == \"종료\": # 종료 입력시\n",
        "        break # 반복 중단\n",
        "    quantity = int(input(\"주문할 붕어빵 개수를 입력하세요: \"))\n",
        "    if bread_stock[bread] >= quantity:\n",
        "        bread_stock[bread] -= quantity\n",
        "        print(f\"{bread} {quantity}개 주문 완료! \")\n",
        "    else:\n",
        "        print(f'재고 부족! 현재 재고: {bread_stock[bread]}개')\n",
        "\n",
        "    print(\"-----\")\n",
        "\n",
        "    print(\"현재 재고 상태:\")\n",
        "    for bread, stock in bread_stock.items():\n",
        "        print(f\"{bread}: {stock}개\")"
      ]
    },
    {
      "cell_type": "markdown",
      "metadata": {
        "id": "rBC1DeCysZBM"
      },
      "source": [
        "__[문제 5: 관리자 모드]__\n",
        "\n",
        "관리자 모드를 통해 붕어빵 재고를 추가할 수 있는 기능을 구현하세요.\n",
        "\n",
        "요구사항:\n",
        "- 관리자는 특정 붕어빵의 재고를 추가할 수 있습니다.\n",
        "- \"종료\"를 입력하면 관리자 모드를 종료합니다.\n",
        "- 추가된 재고를 업데이트하고 현재 재고를 화면에 출력합니다."
      ]
    },
    {
      "cell_type": "code",
      "execution_count": 27,
      "metadata": {
        "colab": {
          "base_uri": "https://localhost:8080/"
        },
        "id": "Kof_UdZmsZBM",
        "outputId": "561ec53e-39ea-476d-af99-acbc829b3de9"
      },
      "outputs": [
        {
          "name": "stdout",
          "output_type": "stream",
          "text": [
            "추가할 붕어빵 종류를 입력하세요: (종료시 '종료' 입력)슈크림붕어빵\n",
            "슈크림붕어빵 추가할 재고를 입력하세요: 100\n",
            "-----\n",
            "추가 완료!\n",
            "-----\n",
            "현재 재고 상태:\n",
            "팥붕어빵: 10개\n",
            "슈크림붕어빵: 108개\n",
            "초코붕어빵: 5개\n",
            "추가할 붕어빵 종류를 입력하세요: (종료시 '종료' 입력)종료\n"
          ]
        }
      ],
      "source": [
        "# 관리자모드\n",
        "\n",
        "while True:\n",
        "    bread = input(\"추가할 붕어빵 종류를 입력하세요: (종료시 '종료' 입력)\")\n",
        "    if bread == \"종료\":\n",
        "        break\n",
        "    add_stock = int(input(f'{bread} 추가할 재고를 입력하세요: '))\n",
        "    bread_stock[bread] += add_stock\n",
        "\n",
        "    print(\"-----\")\n",
        "\n",
        "    print(\"추가 완료!\")\n",
        "\n",
        "    print(\"-----\")\n",
        "\n",
        "    print(\"현재 재고 상태:\")\n",
        "    for bread, stock in bread_stock.items():\n",
        "        print(f\"{bread}: {stock}개\")"
      ]
    },
    {
      "cell_type": "markdown",
      "metadata": {
        "id": "vUorD_qbsZBM"
      },
      "source": [
        "__[문제 6: 매출 확인]__\n",
        "\n",
        "붕어빵 판매 가격을 설정하고, 판매한 붕어빵의 매출을 계산하세요.\n",
        "\n",
        "요구사항:\n",
        "- 각 붕어빵의 가격을 딕셔너리로 관리합니다.\n",
        "- 판매된 붕어빵의 종류와 개수를 딕셔너리로 관리합니다.\n",
        "- 총 매출을 계산하여 출력합니다.\n",
        "\n",
        "초기 설정:\n",
        "- 가격\n",
        "    - \"팥붕어빵\": 1000\n",
        "    - \"슈크림붕어빵\": 1200\n",
        "    - \"초코붕어빵\": 1500\n",
        "\n",
        "- 판매 개수\n",
        "    - \"팥붕어빵\": 0\n",
        "    - \"슈크림붕어빵\": 0\n",
        "    - \"초코붕어빵\": 0"
      ]
    },
    {
      "cell_type": "code",
      "execution_count": 31,
      "metadata": {
        "colab": {
          "base_uri": "https://localhost:8080/"
        },
        "id": "o6uguqsLB8F9",
        "outputId": "6a8785c8-bf2b-48bb-8322-463e9ff81d44"
      },
      "outputs": [
        {
          "name": "stdout",
          "output_type": "stream",
          "text": [
            "원하는 모드를 선택하세요. (주문, 관리자, 종료):주문\n",
            "주문할 붕어빵 종류를 입력하세요: (주문 종료시 '종료' 입력)팥붕어빵\n",
            "주문할 팥붕어빵 개수를 입력하세요: 10\n",
            "팥붕어빵 10개 판매 완료! \n",
            "-----\n",
            "현재 재고 상태:\n",
            "팥붕어빵: 0개\n",
            "슈크림붕어빵: 8개\n",
            "초코붕어빵: 5개\n",
            "주문할 붕어빵 종류를 입력하세요: (주문 종료시 '종료' 입력)돌아가기\n",
            "원하는 모드를 선택하세요. (주문, 관리자, 종료):관리자\n",
            "추가할 붕어빵 종류를 입력하세요: (종료시 '종료' 입력)슈크림붕어빵\n",
            "슈크림붕어빵 추가할 재고를 입력하세요: 100\n",
            "-----\n",
            "추가 완료!\n",
            "-----\n",
            "현재 재고 상태:\n",
            "팥붕어빵: 0개\n",
            "슈크림붕어빵: 108개\n",
            "초코붕어빵: 5개\n",
            "추가할 붕어빵 종류를 입력하세요: (종료시 '종료' 입력)종료\n",
            "원하는 모드를 선택하세요. (주문, 관리자, 종료):종료\n",
            "----\n",
            "총 매출: 10000원\n",
            "----\n",
            "전체 판매 내역:\n",
            "팥붕어빵: 10개, 10000원\n",
            "슈크림붕어빵: 0개, 0원\n",
            "초코붕어빵: 0개, 0원\n"
          ]
        }
      ],
      "source": [
        "# 딕셔너리 설정\n",
        "bread_stock = {\"팥붕어빵\": 10, \"슈크림붕어빵\": 8, \"초코붕어빵\": 5}\n",
        "price = {\"팥붕어빵\":1000, \"슈크림붕어빵\":1200, \"초코붕어빵\":1500}\n",
        "sold = {\"팥붕어빵\":0, \"슈크림붕어빵\":0, \"초코붕어빵\": 0}\n",
        "\n",
        "# 붕어빵 판매\n",
        "while True:\n",
        "    mode = input(\"원하는 모드를 선택하세요. (주문, 관리자, 종료):\")\n",
        "    if mode == \"종료\":\n",
        "        break\n",
        "\n",
        "    if mode == \"주문\":\n",
        "        while True:\n",
        "            bread = input(\"주문할 붕어빵 종류를 입력하세요: (주문 종료시 '종료' 입력)\")\n",
        "            if bread == \"종료\":\n",
        "                break\n",
        "            elif bread == \"돌아가기\":\n",
        "                break\n",
        "\n",
        "            #수량\n",
        "            quantity = int(input(f\"주문할 {bread} 개수를 입력하세요: \"))\n",
        "            if bread_stock[bread] >= quantity:\n",
        "                bread_stock[bread] -= quantity #재고\n",
        "                sold[bread] += quantity #판매수량\n",
        "                print(f\"{bread} {quantity}개 주문 완료! \")\n",
        "            else:\n",
        "                print(f'재고가 부족합니다. 현재 재고: {bread_stock[bread]}개')\n",
        "\n",
        "            print(\"-----\")\n",
        "\n",
        "            print(\"현재 재고 상태:\") #현재재고\n",
        "            for bread, stock in bread_stock.items():\n",
        "                print(f\"{bread}: {stock}개\")\n",
        "\n",
        "    if mode == \"관리자\":\n",
        "        while True:\n",
        "            bread = input(\"추가할 붕어빵 종류를 입력하세요: (종료시 '종료' 입력)\")\n",
        "            if bread == \"종료\":\n",
        "                break\n",
        "            elif bread == \"돌아가기\":\n",
        "                break\n",
        "\n",
        "            #재고추가\n",
        "            add_stock = int(input(f'{bread} 추가할 재고를 입력하세요: '))\n",
        "            bread_stock[bread] += add_stock\n",
        "\n",
        "            print(\"-----\")\n",
        "            print(\"추가 완료!\")\n",
        "            print(\"-----\")\n",
        "\n",
        "            #현재재고\n",
        "            print(\"현재 재고 상태:\")\n",
        "            for bread, stock in bread_stock.items():\n",
        "                print(f\"{bread}: {stock}개\")\n",
        "\n",
        "print(\"----\")\n",
        "\n",
        "# 총 매출\n",
        "all_sold = sum(sold[bread] * price[bread] for bread in sold)\n",
        "print(f'총 매출: {all_sold}원')\n",
        "\n",
        "print(\"----\")\n",
        "\n",
        "# 전체 거래 내역\n",
        "print(\"전체 판매 내역:\")\n",
        "for bread, quantity in sold.items():\n",
        "    bread_sold = quantity * price[bread]\n",
        "    print(f\"{bread}: {quantity}개, {bread_sold}원\")"
      ]
    }
  ],
  "metadata": {
    "colab": {
      "provenance": []
    },
    "kernelspec": {
      "display_name": "Python 3",
      "name": "python3"
    },
    "language_info": {
      "codemirror_mode": {
        "name": "ipython",
        "version": 3
      },
      "file_extension": ".py",
      "mimetype": "text/x-python",
      "name": "python",
      "nbconvert_exporter": "python",
      "pygments_lexer": "ipython3",
      "version": "3.11.7"
    }
  },
  "nbformat": 4,
  "nbformat_minor": 0
}
